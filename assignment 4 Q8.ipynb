{
 "cells": [
  {
   "cell_type": "code",
   "execution_count": 251,
   "id": "6968fe31",
   "metadata": {},
   "outputs": [
    {
     "name": "stdout",
     "output_type": "stream",
     "text": [
      "Requirement already satisfied: selenium in c:\\programdata\\anaconda3\\lib\\site-packages (4.9.1)\n",
      "Requirement already satisfied: trio~=0.17 in c:\\programdata\\anaconda3\\lib\\site-packages (from selenium) (0.22.0)\n",
      "Requirement already satisfied: certifi>=2021.10.8 in c:\\programdata\\anaconda3\\lib\\site-packages (from selenium) (2022.9.14)\n",
      "Requirement already satisfied: urllib3[socks]<3,>=1.26 in c:\\programdata\\anaconda3\\lib\\site-packages (from selenium) (1.26.11)\n",
      "Requirement already satisfied: trio-websocket~=0.9 in c:\\programdata\\anaconda3\\lib\\site-packages (from selenium) (0.10.2)\n",
      "Requirement already satisfied: idna in c:\\programdata\\anaconda3\\lib\\site-packages (from trio~=0.17->selenium) (3.3)\n",
      "Requirement already satisfied: sniffio in c:\\programdata\\anaconda3\\lib\\site-packages (from trio~=0.17->selenium) (1.2.0)\n",
      "Requirement already satisfied: exceptiongroup>=1.0.0rc9 in c:\\programdata\\anaconda3\\lib\\site-packages (from trio~=0.17->selenium) (1.1.1)\n",
      "Requirement already satisfied: sortedcontainers in c:\\programdata\\anaconda3\\lib\\site-packages (from trio~=0.17->selenium) (2.4.0)\n",
      "Requirement already satisfied: async-generator>=1.9 in c:\\programdata\\anaconda3\\lib\\site-packages (from trio~=0.17->selenium) (1.10)\n",
      "Requirement already satisfied: attrs>=19.2.0 in c:\\programdata\\anaconda3\\lib\\site-packages (from trio~=0.17->selenium) (21.4.0)\n",
      "Requirement already satisfied: outcome in c:\\programdata\\anaconda3\\lib\\site-packages (from trio~=0.17->selenium) (1.2.0)\n",
      "Requirement already satisfied: cffi>=1.14 in c:\\programdata\\anaconda3\\lib\\site-packages (from trio~=0.17->selenium) (1.15.1)\n",
      "Requirement already satisfied: wsproto>=0.14 in c:\\programdata\\anaconda3\\lib\\site-packages (from trio-websocket~=0.9->selenium) (1.2.0)\n",
      "Requirement already satisfied: PySocks!=1.5.7,<2.0,>=1.5.6 in c:\\programdata\\anaconda3\\lib\\site-packages (from urllib3[socks]<3,>=1.26->selenium) (1.7.1)\n",
      "Requirement already satisfied: pycparser in c:\\programdata\\anaconda3\\lib\\site-packages (from cffi>=1.14->trio~=0.17->selenium) (2.21)\n",
      "Requirement already satisfied: h11<1,>=0.9.0 in c:\\programdata\\anaconda3\\lib\\site-packages (from wsproto>=0.14->trio-websocket~=0.9->selenium) (0.14.0)\n"
     ]
    }
   ],
   "source": [
    "!pip install selenium"
   ]
  },
  {
   "cell_type": "code",
   "execution_count": 252,
   "id": "290bb8fd",
   "metadata": {},
   "outputs": [],
   "source": [
    "import selenium"
   ]
  },
  {
   "cell_type": "code",
   "execution_count": 253,
   "id": "eaeee844",
   "metadata": {},
   "outputs": [],
   "source": [
    "import pandas as pd"
   ]
  },
  {
   "cell_type": "code",
   "execution_count": 254,
   "id": "6bc12393",
   "metadata": {},
   "outputs": [],
   "source": [
    "from selenium import webdriver"
   ]
  },
  {
   "cell_type": "code",
   "execution_count": 255,
   "id": "8f0abb3b",
   "metadata": {},
   "outputs": [],
   "source": [
    "import warnings"
   ]
  },
  {
   "cell_type": "code",
   "execution_count": 256,
   "id": "01a8556e",
   "metadata": {},
   "outputs": [],
   "source": [
    "warnings.filterwarnings('ignore')"
   ]
  },
  {
   "cell_type": "code",
   "execution_count": 257,
   "id": "f80a284c",
   "metadata": {},
   "outputs": [],
   "source": [
    "from selenium.webdriver.common.by import By"
   ]
  },
  {
   "cell_type": "code",
   "execution_count": 258,
   "id": "8ee0021c",
   "metadata": {},
   "outputs": [],
   "source": [
    "import time"
   ]
  },
  {
   "cell_type": "code",
   "execution_count": 259,
   "id": "a35c86ac",
   "metadata": {},
   "outputs": [],
   "source": [
    "import requests"
   ]
  },
  {
   "cell_type": "code",
   "execution_count": 260,
   "id": "3a636203",
   "metadata": {},
   "outputs": [],
   "source": [
    "from bs4 import BeautifulSoup"
   ]
  },
  {
   "cell_type": "code",
   "execution_count": 261,
   "id": "99dfbcdf",
   "metadata": {},
   "outputs": [],
   "source": [
    "from selenium import webdriver\n",
    "from selenium.webdriver.common.by import By\n",
    "from selenium.webdriver.support.ui import WebDriverWait\n",
    "from selenium.webdriver.support import expected_conditions as EC\n",
    "from selenium.common.exceptions import NoSuchElementException, NoSuchWindowException"
   ]
  },
  {
   "cell_type": "code",
   "execution_count": 262,
   "id": "f49c4f02",
   "metadata": {},
   "outputs": [],
   "source": [
    "from selenium.common.exceptions import ElementNotInteractableException"
   ]
  },
  {
   "cell_type": "code",
   "execution_count": 263,
   "id": "60fa95c9",
   "metadata": {},
   "outputs": [],
   "source": [
    "from selenium.webdriver.support.ui import WebDriverWait"
   ]
  },
  {
   "cell_type": "code",
   "execution_count": 264,
   "id": "daa9ff04",
   "metadata": {},
   "outputs": [],
   "source": [
    "from selenium.webdriver.support import expected_conditions as EC"
   ]
  },
  {
   "cell_type": "code",
   "execution_count": 265,
   "id": "3abc13ef",
   "metadata": {},
   "outputs": [],
   "source": [
    "from selenium.common.exceptions import NoSuchWindowException"
   ]
  },
  {
   "cell_type": "code",
   "execution_count": 266,
   "id": "1cace692",
   "metadata": {},
   "outputs": [],
   "source": [
    "#let first connect to the driver"
   ]
  },
  {
   "cell_type": "code",
   "execution_count": 267,
   "id": "c6786ee2",
   "metadata": {},
   "outputs": [],
   "source": [
    "driver=webdriver.Chrome(r\"C:\\Users\\dell\\Downloads\\chromedriver_win32 (5)\")"
   ]
  },
  {
   "cell_type": "code",
   "execution_count": 268,
   "id": "ad4336c4",
   "metadata": {},
   "outputs": [],
   "source": [
    "driver=webdriver.Chrome(r\"chromedriver.exe\")"
   ]
  },
  {
   "cell_type": "code",
   "execution_count": 269,
   "id": "410241dc",
   "metadata": {},
   "outputs": [],
   "source": [
    "#opening UCI machine learning repositories page on automated chrome browser"
   ]
  },
  {
   "cell_type": "code",
   "execution_count": 270,
   "id": "23c761ee",
   "metadata": {},
   "outputs": [],
   "source": [
    "driver.get(\" https://archive.ics.uci.edu/\")"
   ]
  },
  {
   "cell_type": "code",
   "execution_count": 271,
   "id": "4995c15e",
   "metadata": {},
   "outputs": [],
   "source": [
    "all_dataset=driver.find_element(By.XPATH,\"/html/body/div/div[1]/div[1]/main/div/div[1]/div/div/div/a[1]\")"
   ]
  },
  {
   "cell_type": "code",
   "execution_count": 272,
   "id": "40dda5da",
   "metadata": {},
   "outputs": [],
   "source": [
    "all_dataset.click()"
   ]
  },
  {
   "cell_type": "code",
   "execution_count": 273,
   "id": "b3c5b72a",
   "metadata": {},
   "outputs": [],
   "source": [
    "expand=driver.find_element(By.XPATH,\"/html/body/div/div[1]/div[1]/main/div/div[2]/div[1]/div/label[2]/div[2]/span[2]\")"
   ]
  },
  {
   "cell_type": "code",
   "execution_count": 274,
   "id": "a403a8bb",
   "metadata": {},
   "outputs": [],
   "source": [
    "expand.click()"
   ]
  },
  {
   "cell_type": "code",
   "execution_count": 275,
   "id": "ca7c2d6f",
   "metadata": {},
   "outputs": [],
   "source": [
    "dataset_info = []"
   ]
  },
  {
   "cell_type": "code",
   "execution_count": 276,
   "id": "8a23ffa9",
   "metadata": {},
   "outputs": [],
   "source": [
    " # Find all the rows in the table"
   ]
  },
  {
   "cell_type": "code",
   "execution_count": 277,
   "id": "bffb806e",
   "metadata": {},
   "outputs": [],
   "source": [
    "try:\n",
    "    while True:\n",
    "        rows = driver.find_elements(By.XPATH, \"//table[@cellpadding='3']/tbody/tr\")\n",
    "        # Iterate over each row\n",
    "        for row in rows:\n",
    "            # Extract the dataset information\n",
    "            cells = row.find_elements(By.TAG_NAME, \"td\")\n",
    "            name = cells[0].text\n",
    "            data_type = cells[1].text\n",
    "            task = cells[2].text\n",
    "            attribute_type = cells[3].text\n",
    "            instances = cells[4].text\n",
    "            attributes = cells[5].text\n",
    "            year = cells[6].text  \n",
    "            dataset_info.append({\n",
    "            'name': name,\n",
    "            'data_type': data_type,\n",
    "            'task': task,\n",
    "            'attribute_type': attribute_type,\n",
    "            'instances': instances,\n",
    "            'attributes': attributes,\n",
    "            'year': year})\n",
    "        try:\n",
    "            # Check if there is a \"Next\" button\n",
    "            next_button = driver.find_element(By.CSS_SELECTOR, \"a[href='#'][aria-label='Next']\")\n",
    "            if 'disabled' in next_button.get_attribute('class'):\n",
    "                break\n",
    "\n",
    "            # Click the \"Next\" button to navigate to the next page\n",
    "            next_button.click()\n",
    "            WebDriverWait(driver, 10).until(EC.staleness_of(next_button))\n",
    "\n",
    "        except NoSuchElementException:\n",
    "            break\n",
    "\n",
    "except NoSuchWindowException:\n",
    "    print(\"Browser window closed unexpectedly.\")"
   ]
  },
  {
   "cell_type": "code",
   "execution_count": 278,
   "id": "9bd72e62",
   "metadata": {},
   "outputs": [],
   "source": [
    "# Append the dataset information to the list"
   ]
  },
  {
   "cell_type": "code",
   "execution_count": 279,
   "id": "5f88dfb8",
   "metadata": {},
   "outputs": [
    {
     "name": "stdout",
     "output_type": "stream",
     "text": [
      "Total datasets: 0\n"
     ]
    }
   ],
   "source": [
    "# Print the total dataset information\n",
    "for dataset in dataset_info:\n",
    "    print(dataset)\n",
    "\n",
    "print(\"Total datasets:\", len(dataset_info))"
   ]
  },
  {
   "cell_type": "code",
   "execution_count": 280,
   "id": "20ff5d34",
   "metadata": {},
   "outputs": [],
   "source": [
    "driver.close()"
   ]
  },
  {
   "cell_type": "code",
   "execution_count": null,
   "id": "233b49f8",
   "metadata": {},
   "outputs": [],
   "source": []
  }
 ],
 "metadata": {
  "kernelspec": {
   "display_name": "Python 3 (ipykernel)",
   "language": "python",
   "name": "python3"
  },
  "language_info": {
   "codemirror_mode": {
    "name": "ipython",
    "version": 3
   },
   "file_extension": ".py",
   "mimetype": "text/x-python",
   "name": "python",
   "nbconvert_exporter": "python",
   "pygments_lexer": "ipython3",
   "version": "3.9.13"
  }
 },
 "nbformat": 4,
 "nbformat_minor": 5
}
