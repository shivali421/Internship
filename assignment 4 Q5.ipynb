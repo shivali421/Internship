{
 "cells": [
  {
   "cell_type": "code",
   "execution_count": 1,
   "id": "6968fe31",
   "metadata": {},
   "outputs": [
    {
     "name": "stdout",
     "output_type": "stream",
     "text": [
      "Requirement already satisfied: selenium in c:\\programdata\\anaconda3\\lib\\site-packages (4.9.1)\n",
      "Requirement already satisfied: certifi>=2021.10.8 in c:\\programdata\\anaconda3\\lib\\site-packages (from selenium) (2022.9.14)\n",
      "Requirement already satisfied: trio~=0.17 in c:\\programdata\\anaconda3\\lib\\site-packages (from selenium) (0.22.0)\n",
      "Requirement already satisfied: trio-websocket~=0.9 in c:\\programdata\\anaconda3\\lib\\site-packages (from selenium) (0.10.2)\n",
      "Requirement already satisfied: urllib3[socks]<3,>=1.26 in c:\\programdata\\anaconda3\\lib\\site-packages (from selenium) (1.26.11)\n",
      "Requirement already satisfied: attrs>=19.2.0 in c:\\programdata\\anaconda3\\lib\\site-packages (from trio~=0.17->selenium) (21.4.0)\n",
      "Requirement already satisfied: sortedcontainers in c:\\programdata\\anaconda3\\lib\\site-packages (from trio~=0.17->selenium) (2.4.0)\n",
      "Requirement already satisfied: sniffio in c:\\programdata\\anaconda3\\lib\\site-packages (from trio~=0.17->selenium) (1.2.0)\n",
      "Requirement already satisfied: cffi>=1.14 in c:\\programdata\\anaconda3\\lib\\site-packages (from trio~=0.17->selenium) (1.15.1)\n",
      "Requirement already satisfied: outcome in c:\\programdata\\anaconda3\\lib\\site-packages (from trio~=0.17->selenium) (1.2.0)\n",
      "Requirement already satisfied: async-generator>=1.9 in c:\\programdata\\anaconda3\\lib\\site-packages (from trio~=0.17->selenium) (1.10)\n",
      "Requirement already satisfied: idna in c:\\programdata\\anaconda3\\lib\\site-packages (from trio~=0.17->selenium) (3.3)\n",
      "Requirement already satisfied: exceptiongroup>=1.0.0rc9 in c:\\programdata\\anaconda3\\lib\\site-packages (from trio~=0.17->selenium) (1.1.1)\n",
      "Requirement already satisfied: wsproto>=0.14 in c:\\programdata\\anaconda3\\lib\\site-packages (from trio-websocket~=0.9->selenium) (1.2.0)\n",
      "Requirement already satisfied: PySocks!=1.5.7,<2.0,>=1.5.6 in c:\\programdata\\anaconda3\\lib\\site-packages (from urllib3[socks]<3,>=1.26->selenium) (1.7.1)\n",
      "Requirement already satisfied: pycparser in c:\\programdata\\anaconda3\\lib\\site-packages (from cffi>=1.14->trio~=0.17->selenium) (2.21)\n",
      "Requirement already satisfied: h11<1,>=0.9.0 in c:\\programdata\\anaconda3\\lib\\site-packages (from wsproto>=0.14->trio-websocket~=0.9->selenium) (0.14.0)\n"
     ]
    }
   ],
   "source": [
    "!pip install selenium"
   ]
  },
  {
   "cell_type": "code",
   "execution_count": 2,
   "id": "290bb8fd",
   "metadata": {},
   "outputs": [],
   "source": [
    "import selenium"
   ]
  },
  {
   "cell_type": "code",
   "execution_count": 3,
   "id": "eaeee844",
   "metadata": {},
   "outputs": [],
   "source": [
    "import pandas as pd"
   ]
  },
  {
   "cell_type": "code",
   "execution_count": 4,
   "id": "6bc12393",
   "metadata": {},
   "outputs": [],
   "source": [
    "from selenium import webdriver"
   ]
  },
  {
   "cell_type": "code",
   "execution_count": 5,
   "id": "8f0abb3b",
   "metadata": {},
   "outputs": [],
   "source": [
    "import warnings"
   ]
  },
  {
   "cell_type": "code",
   "execution_count": 6,
   "id": "01a8556e",
   "metadata": {},
   "outputs": [],
   "source": [
    "warnings.filterwarnings('ignore')"
   ]
  },
  {
   "cell_type": "code",
   "execution_count": 7,
   "id": "f80a284c",
   "metadata": {},
   "outputs": [],
   "source": [
    "from selenium.webdriver.common.by import By"
   ]
  },
  {
   "cell_type": "code",
   "execution_count": 8,
   "id": "8ee0021c",
   "metadata": {},
   "outputs": [],
   "source": [
    "import time"
   ]
  },
  {
   "cell_type": "code",
   "execution_count": 9,
   "id": "a35c86ac",
   "metadata": {},
   "outputs": [],
   "source": [
    "import requests"
   ]
  },
  {
   "cell_type": "code",
   "execution_count": 10,
   "id": "3a636203",
   "metadata": {},
   "outputs": [],
   "source": [
    "from bs4 import BeautifulSoup"
   ]
  },
  {
   "cell_type": "code",
   "execution_count": 11,
   "id": "f49c4f02",
   "metadata": {},
   "outputs": [],
   "source": [
    "from selenium.common.exceptions import ElementNotInteractableException"
   ]
  },
  {
   "cell_type": "code",
   "execution_count": 12,
   "id": "1cace692",
   "metadata": {},
   "outputs": [],
   "source": [
    "#let first connect to the driver"
   ]
  },
  {
   "cell_type": "code",
   "execution_count": 13,
   "id": "c6786ee2",
   "metadata": {},
   "outputs": [],
   "source": [
    "driver=webdriver.Chrome(r\"C:\\Users\\dell\\Downloads\\chromedriver_win32 (5)\")"
   ]
  },
  {
   "cell_type": "code",
   "execution_count": 14,
   "id": "ad4336c4",
   "metadata": {},
   "outputs": [],
   "source": [
    "driver=webdriver.Chrome(r\"chromedriver.exe\")"
   ]
  },
  {
   "cell_type": "code",
   "execution_count": 15,
   "id": "410241dc",
   "metadata": {},
   "outputs": [],
   "source": [
    "#opening billboard page on automated chrome browser"
   ]
  },
  {
   "cell_type": "code",
   "execution_count": 16,
   "id": "23c761ee",
   "metadata": {},
   "outputs": [],
   "source": [
    "driver.get(\"https:/www.billboard.com/\")"
   ]
  },
  {
   "cell_type": "code",
   "execution_count": 17,
   "id": "33f2abf6",
   "metadata": {},
   "outputs": [],
   "source": [
    "#first click chart then click 100 page link"
   ]
  },
  {
   "cell_type": "code",
   "execution_count": 18,
   "id": "122b4750",
   "metadata": {},
   "outputs": [],
   "source": [
    "chart=driver.find_element(By.XPATH,\"/html/body/div[3]/header/div/div[2]/div/div/div[2]/div[2]/div/div/nav/ul/li[1]/a\")"
   ]
  },
  {
   "cell_type": "code",
   "execution_count": 19,
   "id": "ad9d32e0",
   "metadata": {},
   "outputs": [],
   "source": [
    "chart.click()"
   ]
  },
  {
   "cell_type": "code",
   "execution_count": 20,
   "id": "f9bfcf1c",
   "metadata": {},
   "outputs": [],
   "source": [
    "page=driver.find_element(By.XPATH,\"/html/body/div[3]/main/div[2]/div[1]/div[1]/div/div/div[1]/div[1]/div[2]/span/a\")"
   ]
  },
  {
   "cell_type": "code",
   "execution_count": 21,
   "id": "fc6fa02f",
   "metadata": {},
   "outputs": [],
   "source": [
    "page.click()"
   ]
  },
  {
   "cell_type": "code",
   "execution_count": 22,
   "id": "919007b5",
   "metadata": {},
   "outputs": [],
   "source": [
    "#scraping song name"
   ]
  },
  {
   "cell_type": "code",
   "execution_count": 23,
   "id": "c78261d6",
   "metadata": {},
   "outputs": [],
   "source": [
    "song=[]"
   ]
  },
  {
   "cell_type": "code",
   "execution_count": 24,
   "id": "ce1544e1",
   "metadata": {},
   "outputs": [],
   "source": [
    "song_name=driver.find_elements(By.XPATH,'//h3[@class=\"c-title  a-no-trucate a-font-primary-bold-s u-letter-spacing-0021 lrv-u-font-size-18@tablet lrv-u-font-size-16 u-line-height-125 u-line-height-normal@mobile-max a-truncate-ellipsis u-max-width-330 u-max-width-230@tablet-only\"]')"
   ]
  },
  {
   "cell_type": "code",
   "execution_count": 25,
   "id": "90c92b09",
   "metadata": {},
   "outputs": [],
   "source": [
    "for i in song_name[0:98]:\n",
    "    title=i.text\n",
    "    song.append(title)"
   ]
  },
  {
   "cell_type": "code",
   "execution_count": 26,
   "id": "4bee002e",
   "metadata": {},
   "outputs": [],
   "source": [
    "#scraping artist name"
   ]
  },
  {
   "cell_type": "code",
   "execution_count": 27,
   "id": "2fed2abc",
   "metadata": {},
   "outputs": [],
   "source": [
    "artist=[]"
   ]
  },
  {
   "cell_type": "code",
   "execution_count": 28,
   "id": "ab3e496f",
   "metadata": {},
   "outputs": [],
   "source": [
    "artist_name=driver.find_elements(By.XPATH,'//span[@class=\"c-label  a-no-trucate a-font-primary-s lrv-u-font-size-14@mobile-max u-line-height-normal@mobile-max u-letter-spacing-0021 lrv-u-display-block a-truncate-ellipsis-2line u-max-width-330 u-max-width-230@tablet-only\"]')"
   ]
  },
  {
   "cell_type": "code",
   "execution_count": 29,
   "id": "f9fa608d",
   "metadata": {},
   "outputs": [],
   "source": [
    "for i in artist_name[0:98]:\n",
    "    singer=i.text\n",
    "    artist.append(singer)"
   ]
  },
  {
   "cell_type": "code",
   "execution_count": 30,
   "id": "2cf4fce3",
   "metadata": {},
   "outputs": [],
   "source": [
    "#scraping last week rank"
   ]
  },
  {
   "cell_type": "code",
   "execution_count": 31,
   "id": "c21e8d37",
   "metadata": {},
   "outputs": [],
   "source": [
    "rank=[]"
   ]
  },
  {
   "cell_type": "code",
   "execution_count": 32,
   "id": "e64e48ed",
   "metadata": {},
   "outputs": [],
   "source": [
    "ranking=driver.find_elements(By.XPATH,'//span[@class=\"c-label  a-font-primary-m lrv-u-padding-tb-050@mobile-max\"]')"
   ]
  },
  {
   "cell_type": "code",
   "execution_count": 33,
   "id": "f1453d22",
   "metadata": {},
   "outputs": [],
   "source": [
    "for i in ranking[0:98]:\n",
    "    r=i.text\n",
    "    rank.append(r)"
   ]
  },
  {
   "cell_type": "code",
   "execution_count": 34,
   "id": "d4899579",
   "metadata": {},
   "outputs": [],
   "source": [
    "#scraping peak rank"
   ]
  },
  {
   "cell_type": "code",
   "execution_count": 35,
   "id": "924ae497",
   "metadata": {},
   "outputs": [],
   "source": [
    "peak=[]"
   ]
  },
  {
   "cell_type": "code",
   "execution_count": 36,
   "id": "560a1eb8",
   "metadata": {},
   "outputs": [],
   "source": [
    "p_rank=driver.find_elements(By.XPATH,'//span[@class=\"c-label  a-font-primary-m lrv-u-padding-tb-050@mobile-max\"]')"
   ]
  },
  {
   "cell_type": "code",
   "execution_count": 37,
   "id": "2937c76d",
   "metadata": {},
   "outputs": [],
   "source": [
    "for i in p_rank[0:98]:\n",
    "    p=i.text\n",
    "    peak.append(p)"
   ]
  },
  {
   "cell_type": "code",
   "execution_count": 38,
   "id": "3363624a",
   "metadata": {},
   "outputs": [],
   "source": [
    "#scraping weeks on board"
   ]
  },
  {
   "cell_type": "code",
   "execution_count": 39,
   "id": "05542f26",
   "metadata": {},
   "outputs": [],
   "source": [
    "weeks=[]"
   ]
  },
  {
   "cell_type": "code",
   "execution_count": 40,
   "id": "3cd53575",
   "metadata": {},
   "outputs": [],
   "source": [
    "board=driver.find_elements(By.XPATH,'//span[@class=\"c-label  a-font-primary-m lrv-u-padding-tb-050@mobile-max\"]')"
   ]
  },
  {
   "cell_type": "code",
   "execution_count": 41,
   "id": "aea562ce",
   "metadata": {},
   "outputs": [],
   "source": [
    "for i in board[0:98]:\n",
    "    week=i.text\n",
    "    weeks.append(week)"
   ]
  },
  {
   "cell_type": "code",
   "execution_count": 42,
   "id": "668f4a92",
   "metadata": {},
   "outputs": [],
   "source": [
    "df=pd.DataFrame({'Song_name':song,'Artist':artist,'Last_week_rank':rank,'Peak_rank':peak,'Weeks_on_board':weeks})"
   ]
  },
  {
   "cell_type": "code",
   "execution_count": 43,
   "id": "e2ed8b26",
   "metadata": {},
   "outputs": [
    {
     "data": {
      "text/html": [
       "<div>\n",
       "<style scoped>\n",
       "    .dataframe tbody tr th:only-of-type {\n",
       "        vertical-align: middle;\n",
       "    }\n",
       "\n",
       "    .dataframe tbody tr th {\n",
       "        vertical-align: top;\n",
       "    }\n",
       "\n",
       "    .dataframe thead th {\n",
       "        text-align: right;\n",
       "    }\n",
       "</style>\n",
       "<table border=\"1\" class=\"dataframe\">\n",
       "  <thead>\n",
       "    <tr style=\"text-align: right;\">\n",
       "      <th></th>\n",
       "      <th>Song_name</th>\n",
       "      <th>Artist</th>\n",
       "      <th>Last_week_rank</th>\n",
       "      <th>Peak_rank</th>\n",
       "      <th>Weeks_on_board</th>\n",
       "    </tr>\n",
       "  </thead>\n",
       "  <tbody>\n",
       "    <tr>\n",
       "      <th>0</th>\n",
       "      <td>Fast Car</td>\n",
       "      <td>Luke Combs</td>\n",
       "      <td>3</td>\n",
       "      <td>3</td>\n",
       "      <td>3</td>\n",
       "    </tr>\n",
       "    <tr>\n",
       "      <th>1</th>\n",
       "      <td>Calm Down</td>\n",
       "      <td>Rema &amp; Selena Gomez</td>\n",
       "      <td>2</td>\n",
       "      <td>2</td>\n",
       "      <td>2</td>\n",
       "    </tr>\n",
       "    <tr>\n",
       "      <th>2</th>\n",
       "      <td>Flowers</td>\n",
       "      <td>Miley Cyrus</td>\n",
       "      <td>13</td>\n",
       "      <td>13</td>\n",
       "      <td>13</td>\n",
       "    </tr>\n",
       "    <tr>\n",
       "      <th>3</th>\n",
       "      <td>All My Life</td>\n",
       "      <td>Lil Durk Featuring J. Cole</td>\n",
       "      <td></td>\n",
       "      <td></td>\n",
       "      <td></td>\n",
       "    </tr>\n",
       "    <tr>\n",
       "      <th>4</th>\n",
       "      <td>Favorite Song</td>\n",
       "      <td>Toosii</td>\n",
       "      <td></td>\n",
       "      <td></td>\n",
       "      <td></td>\n",
       "    </tr>\n",
       "    <tr>\n",
       "      <th>...</th>\n",
       "      <td>...</td>\n",
       "      <td>...</td>\n",
       "      <td>...</td>\n",
       "      <td>...</td>\n",
       "      <td>...</td>\n",
       "    </tr>\n",
       "    <tr>\n",
       "      <th>93</th>\n",
       "      <td>Chanel</td>\n",
       "      <td>Becky G &amp; Peso Pluma</td>\n",
       "      <td></td>\n",
       "      <td></td>\n",
       "      <td></td>\n",
       "    </tr>\n",
       "    <tr>\n",
       "      <th>94</th>\n",
       "      <td>Angel, Pt. 1</td>\n",
       "      <td>Kodak Black, NLE Choppa, Jimin, JVKE &amp; Muni Long</td>\n",
       "      <td></td>\n",
       "      <td></td>\n",
       "      <td></td>\n",
       "    </tr>\n",
       "    <tr>\n",
       "      <th>95</th>\n",
       "      <td>Girl In Mine</td>\n",
       "      <td>Parmalee</td>\n",
       "      <td></td>\n",
       "      <td></td>\n",
       "      <td></td>\n",
       "    </tr>\n",
       "    <tr>\n",
       "      <th>96</th>\n",
       "      <td>Moonlight</td>\n",
       "      <td>Kali Uchis</td>\n",
       "      <td>39</td>\n",
       "      <td>39</td>\n",
       "      <td>39</td>\n",
       "    </tr>\n",
       "    <tr>\n",
       "      <th>97</th>\n",
       "      <td>Classy 101</td>\n",
       "      <td>Feid x Young Miko</td>\n",
       "      <td>18</td>\n",
       "      <td>18</td>\n",
       "      <td>18</td>\n",
       "    </tr>\n",
       "  </tbody>\n",
       "</table>\n",
       "<p>98 rows × 5 columns</p>\n",
       "</div>"
      ],
      "text/plain": [
       "        Song_name                                            Artist  \\\n",
       "0        Fast Car                                        Luke Combs   \n",
       "1       Calm Down                               Rema & Selena Gomez   \n",
       "2         Flowers                                       Miley Cyrus   \n",
       "3     All My Life                        Lil Durk Featuring J. Cole   \n",
       "4   Favorite Song                                            Toosii   \n",
       "..            ...                                               ...   \n",
       "93         Chanel                              Becky G & Peso Pluma   \n",
       "94   Angel, Pt. 1  Kodak Black, NLE Choppa, Jimin, JVKE & Muni Long   \n",
       "95   Girl In Mine                                          Parmalee   \n",
       "96      Moonlight                                        Kali Uchis   \n",
       "97     Classy 101                                 Feid x Young Miko   \n",
       "\n",
       "   Last_week_rank Peak_rank Weeks_on_board  \n",
       "0               3         3              3  \n",
       "1               2         2              2  \n",
       "2              13        13             13  \n",
       "3                                           \n",
       "4                                           \n",
       "..            ...       ...            ...  \n",
       "93                                          \n",
       "94                                          \n",
       "95                                          \n",
       "96             39        39             39  \n",
       "97             18        18             18  \n",
       "\n",
       "[98 rows x 5 columns]"
      ]
     },
     "execution_count": 43,
     "metadata": {},
     "output_type": "execute_result"
    }
   ],
   "source": [
    "df"
   ]
  },
  {
   "cell_type": "code",
   "execution_count": 44,
   "id": "49eba5d4",
   "metadata": {},
   "outputs": [],
   "source": [
    "driver.close()"
   ]
  },
  {
   "cell_type": "code",
   "execution_count": null,
   "id": "e070bc63",
   "metadata": {},
   "outputs": [],
   "source": []
  }
 ],
 "metadata": {
  "kernelspec": {
   "display_name": "Python 3 (ipykernel)",
   "language": "python",
   "name": "python3"
  },
  "language_info": {
   "codemirror_mode": {
    "name": "ipython",
    "version": 3
   },
   "file_extension": ".py",
   "mimetype": "text/x-python",
   "name": "python",
   "nbconvert_exporter": "python",
   "pygments_lexer": "ipython3",
   "version": "3.9.13"
  }
 },
 "nbformat": 4,
 "nbformat_minor": 5
}
