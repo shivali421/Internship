{
 "cells": [
  {
   "cell_type": "markdown",
   "id": "dd697214",
   "metadata": {},
   "source": [
    "                                        Q1"
   ]
  },
  {
   "cell_type": "code",
   "execution_count": 86,
   "id": "6d9c05a8",
   "metadata": {},
   "outputs": [],
   "source": [
    "import regex as re"
   ]
  },
  {
   "cell_type": "code",
   "execution_count": 87,
   "id": "b867f81b",
   "metadata": {},
   "outputs": [],
   "source": [
    "from IPython.utils.text import string"
   ]
  },
  {
   "cell_type": "code",
   "execution_count": 88,
   "id": "8723cce8",
   "metadata": {},
   "outputs": [],
   "source": [
    "txt=\"welcome @ 1234567 this is our portal*#1234567\""
   ]
  },
  {
   "cell_type": "code",
   "execution_count": 89,
   "id": "3e617683",
   "metadata": {},
   "outputs": [],
   "source": [
    "pattern='[a-zA-Z0-9]'"
   ]
  },
  {
   "cell_type": "code",
   "execution_count": 90,
   "id": "2ba4464a",
   "metadata": {},
   "outputs": [
    {
     "name": "stdout",
     "output_type": "stream",
     "text": [
      "['w', 'e', 'l', 'c', 'o', 'm', 'e', '1', '2', '3', '4', '5', '6', '7', 't', 'h', 'i', 's', 'i', 's', 'o', 'u', 'r', 'p', 'o', 'r', 't', 'a', 'l', '1', '2', '3', '4', '5', '6', '7']\n"
     ]
    }
   ],
   "source": [
    "result=re.findall(pattern,txt)\n",
    "print(result)"
   ]
  },
  {
   "cell_type": "markdown",
   "id": "d7c89352",
   "metadata": {},
   "source": [
    "                                            Q2"
   ]
  },
  {
   "cell_type": "code",
   "execution_count": 91,
   "id": "920a886d",
   "metadata": {},
   "outputs": [],
   "source": [
    "def match_string(pattern,string):\n",
    "    regex=r'a[b]*'\n",
    "    matches=re.findall(regex,string)\n",
    "    return matches"
   ]
  },
  {
   "cell_type": "code",
   "execution_count": 92,
   "id": "e18d9f33",
   "metadata": {},
   "outputs": [],
   "source": [
    "input_string=\"Every 100 years called a century which is come after 100 years, said babita, bubina, barbara, babuna and barbashekh\""
   ]
  },
  {
   "cell_type": "code",
   "execution_count": 93,
   "id": "c9aa3c4c",
   "metadata": {},
   "outputs": [],
   "source": [
    "pattern=\"a[b]*\""
   ]
  },
  {
   "cell_type": "code",
   "execution_count": 94,
   "id": "afd6b7a8",
   "metadata": {},
   "outputs": [
    {
     "name": "stdout",
     "output_type": "stream",
     "text": [
      "['a', 'a', 'a', 'a', 'a', 'a', 'ab', 'a', 'a', 'a', 'a', 'a', 'ab', 'a', 'a', 'a', 'a']\n"
     ]
    }
   ],
   "source": [
    "result=match_string(pattern,input_string)\n",
    "print(result)"
   ]
  },
  {
   "cell_type": "markdown",
   "id": "e6aff443",
   "metadata": {},
   "source": [
    "                                                Q3"
   ]
  },
  {
   "cell_type": "code",
   "execution_count": 95,
   "id": "60978d69",
   "metadata": {},
   "outputs": [],
   "source": [
    "def match_str(pattern,string):\n",
    "    regex=r'a[b]+'\n",
    "    matches=re.findall(regex,string)\n",
    "    return matches"
   ]
  },
  {
   "cell_type": "code",
   "execution_count": 96,
   "id": "3c12e97f",
   "metadata": {},
   "outputs": [],
   "source": [
    "input_string=\"Every 100 years called a century which is come after 100 years, said babita, bubina, barbara, babuna and barbashekh\""
   ]
  },
  {
   "cell_type": "code",
   "execution_count": 97,
   "id": "a79f630b",
   "metadata": {},
   "outputs": [],
   "source": [
    "pattern=\"a[b]+\""
   ]
  },
  {
   "cell_type": "code",
   "execution_count": 98,
   "id": "a076dafb",
   "metadata": {},
   "outputs": [
    {
     "name": "stdout",
     "output_type": "stream",
     "text": [
      "['ab', 'ab']\n"
     ]
    }
   ],
   "source": [
    "result=match_str(pattern,input_string)\n",
    "print(result)"
   ]
  },
  {
   "cell_type": "markdown",
   "id": "9132a659",
   "metadata": {},
   "source": [
    "                                            Q4"
   ]
  },
  {
   "cell_type": "code",
   "execution_count": 99,
   "id": "1c18a28a",
   "metadata": {},
   "outputs": [],
   "source": [
    "def match_strr(pattern,string):\n",
    "    regex=r'a[b]?'\n",
    "    matches=re.findall(regex,string)\n",
    "    return matches"
   ]
  },
  {
   "cell_type": "code",
   "execution_count": 100,
   "id": "634683a1",
   "metadata": {},
   "outputs": [],
   "source": [
    "input_string=\"Every 100 years called a century which is come after 100 years, said babita, bubina, barbara, babuna and barbashekh\""
   ]
  },
  {
   "cell_type": "code",
   "execution_count": 101,
   "id": "2cb5efe8",
   "metadata": {},
   "outputs": [],
   "source": [
    "pattern=\"a[b]?\""
   ]
  },
  {
   "cell_type": "code",
   "execution_count": 102,
   "id": "4f375d33",
   "metadata": {},
   "outputs": [
    {
     "name": "stdout",
     "output_type": "stream",
     "text": [
      "['a', 'a', 'a', 'a', 'a', 'a', 'ab', 'a', 'a', 'a', 'a', 'a', 'ab', 'a', 'a', 'a', 'a']\n"
     ]
    }
   ],
   "source": [
    "result=match_strr(pattern,input_string)\n",
    "print(result)"
   ]
  },
  {
   "cell_type": "markdown",
   "id": "72b1dddc",
   "metadata": {},
   "source": [
    "                                            Q5"
   ]
  },
  {
   "cell_type": "code",
   "execution_count": 103,
   "id": "ed1707a8",
   "metadata": {},
   "outputs": [],
   "source": [
    "target_string=\"abbb abb abbb abbbbb abbb abbbbb abbb\""
   ]
  },
  {
   "cell_type": "code",
   "execution_count": 104,
   "id": "991f5dcf",
   "metadata": {},
   "outputs": [],
   "source": [
    "#a followed by 3 b"
   ]
  },
  {
   "cell_type": "code",
   "execution_count": 105,
   "id": "97d5f9c8",
   "metadata": {},
   "outputs": [],
   "source": [
    "pattern=r\"a(b{3})\""
   ]
  },
  {
   "cell_type": "code",
   "execution_count": 106,
   "id": "b2059d1d",
   "metadata": {},
   "outputs": [
    {
     "name": "stdout",
     "output_type": "stream",
     "text": [
      "['bbb', 'bbb', 'bbb', 'bbb', 'bbb', 'bbb']\n"
     ]
    }
   ],
   "source": [
    "matches=re.findall(pattern,target_string)\n",
    "print(matches)"
   ]
  },
  {
   "cell_type": "markdown",
   "id": "27759015",
   "metadata": {},
   "source": [
    "                                                Q6"
   ]
  },
  {
   "cell_type": "code",
   "execution_count": 107,
   "id": "54b66c9a",
   "metadata": {},
   "outputs": [],
   "source": [
    "sample_text=\"ImportanceOfRegularExpressionsInPython\""
   ]
  },
  {
   "cell_type": "code",
   "execution_count": 108,
   "id": "03279cf6",
   "metadata": {},
   "outputs": [],
   "source": [
    "#split the string from every uppercase letter"
   ]
  },
  {
   "cell_type": "code",
   "execution_count": 109,
   "id": "1a1dc4c8",
   "metadata": {},
   "outputs": [
    {
     "name": "stdout",
     "output_type": "stream",
     "text": [
      "['Importance', 'Of', 'Regular', 'Expressions', 'In', 'Python']\n"
     ]
    }
   ],
   "source": [
    "result=re.findall('[A-Z][^A-Z]*', sample_text)\n",
    "print(result)"
   ]
  },
  {
   "cell_type": "markdown",
   "id": "02b975fc",
   "metadata": {},
   "source": [
    "                                                Q7"
   ]
  },
  {
   "cell_type": "code",
   "execution_count": 110,
   "id": "fac14e90",
   "metadata": {},
   "outputs": [],
   "source": [
    "target_string=\"abbb abb abbb abbbbb abbb abbbbb abbb abbbbbb vabbbbbbbb\""
   ]
  },
  {
   "cell_type": "code",
   "execution_count": 111,
   "id": "6422dc82",
   "metadata": {},
   "outputs": [],
   "source": [
    "# a followed by 2 to 3 b's"
   ]
  },
  {
   "cell_type": "code",
   "execution_count": 112,
   "id": "aea04c7b",
   "metadata": {},
   "outputs": [],
   "source": [
    "pattern=r'ab{2,3}'"
   ]
  },
  {
   "cell_type": "code",
   "execution_count": 113,
   "id": "02df540c",
   "metadata": {},
   "outputs": [
    {
     "name": "stdout",
     "output_type": "stream",
     "text": [
      "['abbb', 'abb', 'abbb', 'abbb', 'abbb', 'abbb', 'abbb', 'abbb', 'abbb']\n"
     ]
    }
   ],
   "source": [
    "matches=re.findall(pattern,target_string)\n",
    "print(matches)"
   ]
  },
  {
   "cell_type": "markdown",
   "id": "c9a1bf4d",
   "metadata": {},
   "source": [
    "                                                Q8"
   ]
  },
  {
   "cell_type": "code",
   "execution_count": 114,
   "id": "1941a941",
   "metadata": {},
   "outputs": [],
   "source": [
    "target_string=\"PG DIPLOMA in_ data_scicence and_ machine_learning \""
   ]
  },
  {
   "cell_type": "code",
   "execution_count": 115,
   "id": "4fdc7475",
   "metadata": {},
   "outputs": [],
   "source": [
    "#sequences of lower case joined with _"
   ]
  },
  {
   "cell_type": "code",
   "execution_count": 116,
   "id": "95c8f97e",
   "metadata": {},
   "outputs": [],
   "source": [
    "pattern=r'[a-z]+_[a-z]+'"
   ]
  },
  {
   "cell_type": "code",
   "execution_count": 117,
   "id": "a3709d9b",
   "metadata": {},
   "outputs": [
    {
     "name": "stdout",
     "output_type": "stream",
     "text": [
      "['data_scicence', 'machine_learning']\n"
     ]
    }
   ],
   "source": [
    "matches=re.findall(pattern,target_string)\n",
    "print(matches)"
   ]
  },
  {
   "cell_type": "markdown",
   "id": "273ccc79",
   "metadata": {},
   "source": [
    "                                                Q9"
   ]
  },
  {
   "cell_type": "code",
   "execution_count": 118,
   "id": "34b58510",
   "metadata": {},
   "outputs": [],
   "source": [
    "input_string=\"abhinab aurangjeb aarab arun achal abhirab seema geeta anant\""
   ]
  },
  {
   "cell_type": "code",
   "execution_count": 119,
   "id": "76e3164e",
   "metadata": {},
   "outputs": [],
   "source": [
    "#string staring from 'a' ending with 'b'"
   ]
  },
  {
   "cell_type": "code",
   "execution_count": 120,
   "id": "dc8472d8",
   "metadata": {},
   "outputs": [],
   "source": [
    "pattern=r'a.*?b\\b'"
   ]
  },
  {
   "cell_type": "code",
   "execution_count": 121,
   "id": "b182665c",
   "metadata": {},
   "outputs": [
    {
     "name": "stdout",
     "output_type": "stream",
     "text": [
      "['abhinab', 'aurangjeb', 'aarab', 'arun achal abhirab']\n"
     ]
    }
   ],
   "source": [
    "output=re.findall(pattern,input_string)\n",
    "print(output)"
   ]
  },
  {
   "cell_type": "markdown",
   "id": "e8056132",
   "metadata": {},
   "source": [
    "                                            Q10"
   ]
  },
  {
   "cell_type": "code",
   "execution_count": 122,
   "id": "523e0bf4",
   "metadata": {},
   "outputs": [],
   "source": [
    "input_string=\"India is a beautiful country. It has four metro cities\""
   ]
  },
  {
   "cell_type": "code",
   "execution_count": 123,
   "id": "8eed4235",
   "metadata": {},
   "outputs": [],
   "source": [
    "#matches a word at the beginning of a string."
   ]
  },
  {
   "cell_type": "code",
   "execution_count": 124,
   "id": "2a48d67a",
   "metadata": {},
   "outputs": [],
   "source": [
    "pattern=\"^India\""
   ]
  },
  {
   "cell_type": "code",
   "execution_count": 125,
   "id": "ddca8e45",
   "metadata": {},
   "outputs": [],
   "source": [
    "x=re.findall(pattern,input_string)"
   ]
  },
  {
   "cell_type": "code",
   "execution_count": 126,
   "id": "a244e6c4",
   "metadata": {},
   "outputs": [
    {
     "name": "stdout",
     "output_type": "stream",
     "text": [
      "['India']\n"
     ]
    }
   ],
   "source": [
    "print(x)"
   ]
  },
  {
   "cell_type": "markdown",
   "id": "cb221952",
   "metadata": {},
   "source": [
    "                                        Q11"
   ]
  },
  {
   "cell_type": "code",
   "execution_count": 127,
   "id": "9fcc3232",
   "metadata": {},
   "outputs": [],
   "source": [
    "#to match a string that contains only upper and lowercase letters, numbers, and underscores."
   ]
  },
  {
   "cell_type": "code",
   "execution_count": 128,
   "id": "dc7636c2",
   "metadata": {},
   "outputs": [],
   "source": [
    "text=\"PG Diploma in DATA_SCIENCE , MACHINE_LEARNING and NEURAL NETWORK duration 12 months , 6 months by datatrained institute\""
   ]
  },
  {
   "cell_type": "code",
   "execution_count": 129,
   "id": "65a33041",
   "metadata": {},
   "outputs": [],
   "source": [
    "def is_valid_string(string):\n",
    "    pattern = r'^[a-zA-Z0-9_]+$'\n",
    "    match = re.match(pattern, string)\n",
    "    return bool(match)"
   ]
  },
  {
   "cell_type": "code",
   "execution_count": 130,
   "id": "737b4e1c",
   "metadata": {},
   "outputs": [],
   "source": [
    "def print_valid_words(string):\n",
    "    words = string.split()\n",
    "    valid_words = [word for word in words if is_valid_string(word)]\n",
    "    for valid_word in valid_words:\n",
    "        print(valid_word)"
   ]
  },
  {
   "cell_type": "code",
   "execution_count": 131,
   "id": "be3e9157",
   "metadata": {},
   "outputs": [
    {
     "name": "stdout",
     "output_type": "stream",
     "text": [
      "Valid words in the given string:\n",
      "PG\n",
      "Diploma\n",
      "in\n",
      "DATA_SCIENCE\n",
      "MACHINE_LEARNING\n",
      "and\n",
      "NEURAL\n",
      "NETWORK\n",
      "duration\n",
      "12\n",
      "months\n",
      "6\n",
      "months\n",
      "by\n",
      "datatrained\n",
      "institute\n"
     ]
    }
   ],
   "source": [
    "print(\"Valid words in the given string:\")\n",
    "print_valid_words(text)"
   ]
  },
  {
   "cell_type": "markdown",
   "id": "3174e008",
   "metadata": {},
   "source": [
    "                                                Q12"
   ]
  },
  {
   "cell_type": "code",
   "execution_count": 132,
   "id": "0d9cd1c1",
   "metadata": {},
   "outputs": [],
   "source": [
    "#a string will start with a specific number. "
   ]
  },
  {
   "cell_type": "code",
   "execution_count": 133,
   "id": "ad852d2f",
   "metadata": {},
   "outputs": [],
   "source": [
    "msg=\"100 years is called century 100 is also called one 100I gave him a 100 rupee note\""
   ]
  },
  {
   "cell_type": "code",
   "execution_count": 134,
   "id": "b1e9144f",
   "metadata": {},
   "outputs": [],
   "source": [
    "number=100"
   ]
  },
  {
   "cell_type": "code",
   "execution_count": 135,
   "id": "379b3e9c",
   "metadata": {},
   "outputs": [],
   "source": [
    "pattern=(r\"^100\")"
   ]
  },
  {
   "cell_type": "code",
   "execution_count": 136,
   "id": "80299682",
   "metadata": {},
   "outputs": [],
   "source": [
    "x=re.findall(pattern,msg)"
   ]
  },
  {
   "cell_type": "code",
   "execution_count": 137,
   "id": "78622033",
   "metadata": {},
   "outputs": [
    {
     "name": "stdout",
     "output_type": "stream",
     "text": [
      "['100']\n"
     ]
    }
   ],
   "source": [
    "print(x)"
   ]
  },
  {
   "cell_type": "markdown",
   "id": "0da17b82",
   "metadata": {},
   "source": [
    "\n",
    "                                                Q13"
   ]
  },
  {
   "cell_type": "code",
   "execution_count": 138,
   "id": "5438c956",
   "metadata": {},
   "outputs": [],
   "source": [
    "def remove_leading_zeros(ip_address):\n",
    "    parts = ip_address.split('.')\n",
    "    parts = [str(int(part)) for part in parts]  # Remove leading zeros\n",
    "    return '.'.join(parts)"
   ]
  },
  {
   "cell_type": "code",
   "execution_count": 139,
   "id": "8a0cf64e",
   "metadata": {},
   "outputs": [],
   "source": [
    "ip_address='10.00.01.10'"
   ]
  },
  {
   "cell_type": "code",
   "execution_count": 140,
   "id": "058d8955",
   "metadata": {},
   "outputs": [
    {
     "name": "stdout",
     "output_type": "stream",
     "text": [
      "10.0.1.10\n"
     ]
    }
   ],
   "source": [
    "result=remove_leading_zeros(ip_address)\n",
    "print(result)"
   ]
  },
  {
   "cell_type": "markdown",
   "id": "aae7840d",
   "metadata": {},
   "source": [
    "                                                    Q14"
   ]
  },
  {
   "cell_type": "code",
   "execution_count": 141,
   "id": "8b7530e3",
   "metadata": {},
   "outputs": [],
   "source": [
    "#to match a date string in the form of Month name followed by day number and year stored in a text file."
   ]
  },
  {
   "cell_type": "code",
   "execution_count": 146,
   "id": "be1759ff",
   "metadata": {},
   "outputs": [
    {
     "ename": "SyntaxError",
     "evalue": "(unicode error) 'unicodeescape' codec can't decode bytes in position 2-3: truncated \\UXXXXXXXX escape (3713009006.py, line 1)",
     "output_type": "error",
     "traceback": [
      "\u001b[1;36m  File \u001b[1;32m\"C:\\Users\\dell\\AppData\\Local\\Temp\\ipykernel_8592\\3713009006.py\"\u001b[1;36m, line \u001b[1;32m1\u001b[0m\n\u001b[1;33m    with open(\"C:\\Users\\dell\\Desktop\\content\\Extract date.txt\")as file:\u001b[0m\n\u001b[1;37m                                                              ^\u001b[0m\n\u001b[1;31mSyntaxError\u001b[0m\u001b[1;31m:\u001b[0m (unicode error) 'unicodeescape' codec can't decode bytes in position 2-3: truncated \\UXXXXXXXX escape\n"
     ]
    }
   ],
   "source": [
    "with open(\"C:\\Users\\dell\\Desktop\\content\\Extract date.txt\")as file:\n",
    "    for line in file:\n",
    "        date=re.match(r\"\\b([A-Za-z]+\\d{1,2}(?:st|nd|rd|th)\\d{4})\\b\")"
   ]
  },
  {
   "cell_type": "code",
   "execution_count": 147,
   "id": "a0d44464",
   "metadata": {},
   "outputs": [
    {
     "ename": "NameError",
     "evalue": "name 'match' is not defined",
     "output_type": "error",
     "traceback": [
      "\u001b[1;31m---------------------------------------------------------------------------\u001b[0m",
      "\u001b[1;31mNameError\u001b[0m                                 Traceback (most recent call last)",
      "\u001b[1;32m~\\AppData\\Local\\Temp\\ipykernel_8592\\1639725835.py\u001b[0m in \u001b[0;36m<module>\u001b[1;34m\u001b[0m\n\u001b[1;32m----> 1\u001b[1;33m \u001b[1;32mif\u001b[0m \u001b[0mmatch\u001b[0m\u001b[1;33m:\u001b[0m\u001b[1;33m\u001b[0m\u001b[1;33m\u001b[0m\u001b[0m\n\u001b[0m\u001b[0;32m      2\u001b[0m     \u001b[0mdate_string\u001b[0m \u001b[1;33m=\u001b[0m\u001b[0mdate\u001b[0m\u001b[1;33m.\u001b[0m\u001b[0mgroup\u001b[0m\u001b[1;33m(\u001b[0m\u001b[1;36m1\u001b[0m\u001b[1;33m)\u001b[0m\u001b[1;33m\u001b[0m\u001b[1;33m\u001b[0m\u001b[0m\n\u001b[0;32m      3\u001b[0m     \u001b[0mprint\u001b[0m\u001b[1;33m(\u001b[0m\u001b[0mdate_string\u001b[0m\u001b[1;33m)\u001b[0m\u001b[1;33m\u001b[0m\u001b[1;33m\u001b[0m\u001b[0m\n\u001b[0;32m      4\u001b[0m \u001b[1;32melse\u001b[0m\u001b[1;33m:\u001b[0m\u001b[1;33m\u001b[0m\u001b[1;33m\u001b[0m\u001b[0m\n\u001b[0;32m      5\u001b[0m     \u001b[0mprint\u001b[0m\u001b[1;33m(\u001b[0m\u001b[1;34m\"No date string found.\"\u001b[0m\u001b[1;33m)\u001b[0m\u001b[1;33m\u001b[0m\u001b[1;33m\u001b[0m\u001b[0m\n",
      "\u001b[1;31mNameError\u001b[0m: name 'match' is not defined"
     ]
    }
   ],
   "source": [
    "if match:\n",
    "    date_string =date.group(1)\n",
    "    print(date_string)\n",
    "else:\n",
    "    print(\"No date string found.\")"
   ]
  },
  {
   "cell_type": "markdown",
   "id": "b6a1e417",
   "metadata": {},
   "source": [
    "                                                Q15"
   ]
  },
  {
   "cell_type": "code",
   "execution_count": 148,
   "id": "c5d22f8a",
   "metadata": {},
   "outputs": [],
   "source": [
    "import regex as re"
   ]
  },
  {
   "cell_type": "code",
   "execution_count": 149,
   "id": "9d4dd590",
   "metadata": {},
   "outputs": [],
   "source": [
    "from IPython.utils.text import string"
   ]
  },
  {
   "cell_type": "code",
   "execution_count": 150,
   "id": "eef7f4e5",
   "metadata": {},
   "outputs": [],
   "source": [
    "#to search some literals strings in a string. "
   ]
  },
  {
   "cell_type": "code",
   "execution_count": 151,
   "id": "76711f16",
   "metadata": {},
   "outputs": [],
   "source": [
    "def search_strings(text,searched_words):\n",
    "    found_words = []\n",
    "    for word in searched_words:\n",
    "        if word in text:\n",
    "            found_words.append(word)\n",
    "    return found_words"
   ]
  },
  {
   "cell_type": "code",
   "execution_count": 152,
   "id": "b5d337ae",
   "metadata": {},
   "outputs": [],
   "source": [
    "sample_text='The quick brown fox jumps over the lazy dog.'"
   ]
  },
  {
   "cell_type": "code",
   "execution_count": 153,
   "id": "98ad4206",
   "metadata": {},
   "outputs": [],
   "source": [
    "searched_words=['fox','dog','horse']"
   ]
  },
  {
   "cell_type": "code",
   "execution_count": 154,
   "id": "439047b1",
   "metadata": {},
   "outputs": [
    {
     "name": "stdout",
     "output_type": "stream",
     "text": [
      "['fox', 'dog']\n"
     ]
    }
   ],
   "source": [
    "result = search_strings(sample_text, searched_words)\n",
    "print(result)"
   ]
  },
  {
   "cell_type": "markdown",
   "id": "60332755",
   "metadata": {},
   "source": [
    "                                                Q16"
   ]
  },
  {
   "cell_type": "code",
   "execution_count": 155,
   "id": "a2b68af7",
   "metadata": {},
   "outputs": [],
   "source": [
    "#to search a literals string in a string and also find the location within the original string "
   ]
  },
  {
   "cell_type": "code",
   "execution_count": 156,
   "id": "93d18189",
   "metadata": {},
   "outputs": [],
   "source": [
    "def search_string_with_location(text,pattern):\n",
    "    locations=[]\n",
    "    start=0\n",
    "    while True:\n",
    "        index=text.find(pattern,start)\n",
    "        if index==-1:\n",
    "            break\n",
    "        locations.append(index)\n",
    "        start=index+1\n",
    "    return locations"
   ]
  },
  {
   "cell_type": "code",
   "execution_count": 157,
   "id": "5d59a4dc",
   "metadata": {},
   "outputs": [],
   "source": [
    "sample_text='The quick brown fox jumps over the lazy dog.'"
   ]
  },
  {
   "cell_type": "code",
   "execution_count": 158,
   "id": "0f3ecc33",
   "metadata": {},
   "outputs": [],
   "source": [
    "searched_word='fox'"
   ]
  },
  {
   "cell_type": "code",
   "execution_count": 159,
   "id": "54b7b3c3",
   "metadata": {},
   "outputs": [
    {
     "name": "stdout",
     "output_type": "stream",
     "text": [
      "[16]\n"
     ]
    }
   ],
   "source": [
    "result=search_string_with_location(sample_text,searched_word)\n",
    "print(result)"
   ]
  },
  {
   "cell_type": "markdown",
   "id": "3f2d07c6",
   "metadata": {},
   "source": [
    "                                                Q17"
   ]
  },
  {
   "cell_type": "code",
   "execution_count": 160,
   "id": "50f73cec",
   "metadata": {},
   "outputs": [],
   "source": [
    "#to find the substrings within a string."
   ]
  },
  {
   "cell_type": "code",
   "execution_count": 161,
   "id": "6a93ee25",
   "metadata": {},
   "outputs": [],
   "source": [
    "string=\"Python exercises, PHP exercises, C# exercises\""
   ]
  },
  {
   "cell_type": "code",
   "execution_count": 162,
   "id": "9b33a5f4",
   "metadata": {},
   "outputs": [],
   "source": [
    "sub_string=\"exercises\""
   ]
  },
  {
   "cell_type": "code",
   "execution_count": 163,
   "id": "d9ec0c02",
   "metadata": {},
   "outputs": [
    {
     "name": "stdout",
     "output_type": "stream",
     "text": [
      "<regex.Match object; span=(7, 16), match='exercises'>\n"
     ]
    }
   ],
   "source": [
    "pattern=re.search(sub_string,string)\n",
    "print(pattern)"
   ]
  },
  {
   "cell_type": "code",
   "execution_count": 164,
   "id": "b2ef8587",
   "metadata": {},
   "outputs": [
    {
     "name": "stdout",
     "output_type": "stream",
     "text": [
      "exercises\n"
     ]
    }
   ],
   "source": [
    "print(pattern.group())"
   ]
  },
  {
   "cell_type": "markdown",
   "id": "a4a4bfa6",
   "metadata": {},
   "source": [
    "                                                Q18"
   ]
  },
  {
   "cell_type": "code",
   "execution_count": 165,
   "id": "8a847076",
   "metadata": {},
   "outputs": [],
   "source": [
    "#the occurrence and position of the substrings within a string."
   ]
  },
  {
   "cell_type": "code",
   "execution_count": 166,
   "id": "aff78d81",
   "metadata": {},
   "outputs": [],
   "source": [
    "def find_substring_occurrences(text, substring):\n",
    "    occurrences = []\n",
    "    start = 0\n",
    "    while True:\n",
    "        index = text.find(substring, start)\n",
    "        if index==-1:\n",
    "            break\n",
    "        occurrences.append(index)\n",
    "        start=index + 1\n",
    "    return occurrences\n"
   ]
  },
  {
   "cell_type": "code",
   "execution_count": 167,
   "id": "98b256ec",
   "metadata": {},
   "outputs": [],
   "source": [
    "sample_text = 'Python exercises, PHP exercises, C# exercises'\n",
    "substring = 'exercises'"
   ]
  },
  {
   "cell_type": "code",
   "execution_count": 168,
   "id": "011557f0",
   "metadata": {},
   "outputs": [
    {
     "name": "stdout",
     "output_type": "stream",
     "text": [
      "Occurrences: 3\n",
      "Positions: [7, 22, 36]\n"
     ]
    }
   ],
   "source": [
    "occurrences = find_substring_occurrences(sample_text, substring)\n",
    "print(\"Occurrences:\", len(occurrences))\n",
    "print(\"Positions:\", occurrences)"
   ]
  },
  {
   "cell_type": "markdown",
   "id": "2c223861",
   "metadata": {},
   "source": [
    "                                                Q19"
   ]
  },
  {
   "cell_type": "code",
   "execution_count": 169,
   "id": "152469bf",
   "metadata": {},
   "outputs": [],
   "source": [
    "#to convert a date of yyyy-mm-dd format to dd-mm-yyyy format."
   ]
  },
  {
   "cell_type": "code",
   "execution_count": 170,
   "id": "c982b4d0",
   "metadata": {},
   "outputs": [],
   "source": [
    "def convert_date(date):\n",
    "    parts=date.split('-')\n",
    "    converted_date=parts[2]+'-'+parts[1]+'-'+parts[0]\n",
    "    return converted_date"
   ]
  },
  {
   "cell_type": "code",
   "execution_count": 171,
   "id": "8b77a89d",
   "metadata": {},
   "outputs": [],
   "source": [
    "date='2023-07-14'"
   ]
  },
  {
   "cell_type": "code",
   "execution_count": 172,
   "id": "03fb484c",
   "metadata": {},
   "outputs": [
    {
     "name": "stdout",
     "output_type": "stream",
     "text": [
      "14-07-2023\n"
     ]
    }
   ],
   "source": [
    "converted_date=convert_date(date)\n",
    "print(converted_date)"
   ]
  },
  {
   "cell_type": "markdown",
   "id": "085483b0",
   "metadata": {},
   "source": [
    "                                                    Q20"
   ]
  },
  {
   "cell_type": "code",
   "execution_count": 173,
   "id": "d075ccd5",
   "metadata": {},
   "outputs": [],
   "source": [
    "#to find all words starting with 'a' or 'e' in a given string."
   ]
  },
  {
   "cell_type": "code",
   "execution_count": 174,
   "id": "51238b9b",
   "metadata": {},
   "outputs": [],
   "source": [
    "sample_text=\"Project K, directed by Nag Ashwin, is called India’s most expensive film with a reported budget of around Rs 600 crore\""
   ]
  },
  {
   "cell_type": "code",
   "execution_count": 175,
   "id": "8f5d3eb9",
   "metadata": {},
   "outputs": [],
   "source": [
    "def find_words(text):\n",
    "    pattern=r'\\b[aAeE]\\w+'\n",
    "    words=re.findall(pattern,text)\n",
    "    return words"
   ]
  },
  {
   "cell_type": "code",
   "execution_count": 176,
   "id": "8fbf5405",
   "metadata": {},
   "outputs": [
    {
     "name": "stdout",
     "output_type": "stream",
     "text": [
      "['Ashwin', 'expensive', 'around']\n"
     ]
    }
   ],
   "source": [
    "found_words=find_words(sample_text)\n",
    "print(found_words)"
   ]
  },
  {
   "cell_type": "code",
   "execution_count": 177,
   "id": "542a7c54",
   "metadata": {},
   "outputs": [],
   "source": [
    "import regex as re"
   ]
  },
  {
   "cell_type": "code",
   "execution_count": 178,
   "id": "edfedc1b",
   "metadata": {},
   "outputs": [],
   "source": [
    "from IPython.utils.text import string"
   ]
  },
  {
   "cell_type": "markdown",
   "id": "9cbaf913",
   "metadata": {},
   "source": [
    "                                            Q21"
   ]
  },
  {
   "cell_type": "code",
   "execution_count": 179,
   "id": "b822d8c5",
   "metadata": {},
   "outputs": [],
   "source": [
    "#to separate and print the numbers and their position of a given string."
   ]
  },
  {
   "cell_type": "code",
   "execution_count": 180,
   "id": "9d02016c",
   "metadata": {},
   "outputs": [],
   "source": [
    "def extract_number(text):\n",
    "    pattern=r'\\d+'\n",
    "    numbers=re.findall(pattern,text)\n",
    "    positions=[match.start() for match in re.finditer(pattern,text)]\n",
    "    return numbers, positions"
   ]
  },
  {
   "cell_type": "code",
   "execution_count": 181,
   "id": "4ae6650e",
   "metadata": {},
   "outputs": [],
   "source": [
    "sample_string=\"In India, there are 1, 2, 5, 10, 20, 50, 100, 200, 500, and 2000 rupees notes\""
   ]
  },
  {
   "cell_type": "code",
   "execution_count": 182,
   "id": "ee6aab32",
   "metadata": {},
   "outputs": [],
   "source": [
    "numbers,positions=extract_number(sample_string)"
   ]
  },
  {
   "cell_type": "code",
   "execution_count": 183,
   "id": "2129ec8d",
   "metadata": {},
   "outputs": [
    {
     "name": "stdout",
     "output_type": "stream",
     "text": [
      "Numbers: ['1', '2', '5', '10', '20', '50', '100', '200', '500', '2000']\n",
      "Positions: [20, 23, 26, 29, 33, 37, 41, 46, 51, 60]\n"
     ]
    }
   ],
   "source": [
    "print(\"Numbers:\", numbers)\n",
    "print(\"Positions:\", positions)"
   ]
  },
  {
   "cell_type": "markdown",
   "id": "6fe1d1b4",
   "metadata": {},
   "source": [
    "                                                Q22"
   ]
  },
  {
   "cell_type": "code",
   "execution_count": 184,
   "id": "91f01266",
   "metadata": {},
   "outputs": [],
   "source": [
    "#to extract maximum numeric value from a string"
   ]
  },
  {
   "cell_type": "code",
   "execution_count": 185,
   "id": "1000dbaf",
   "metadata": {},
   "outputs": [],
   "source": [
    "def maximum(text):\n",
    "    numbers=re.findall(r'\\d+',text)\n",
    "    max_value=max(map(int,numbers))\n",
    "    return max_value"
   ]
  },
  {
   "cell_type": "code",
   "execution_count": 186,
   "id": "58f0ad45",
   "metadata": {},
   "outputs": [],
   "source": [
    "sample_string=\"55, 60, 999, 234, 70, 50, 34, 223, 666, 2, 59, 21, 456\""
   ]
  },
  {
   "cell_type": "code",
   "execution_count": 187,
   "id": "6eba727a",
   "metadata": {},
   "outputs": [
    {
     "name": "stdout",
     "output_type": "stream",
     "text": [
      "Maximum Numeric Value: 999\n"
     ]
    }
   ],
   "source": [
    "max_value=maximum(sample_string)\n",
    "print(\"Maximum Numeric Value:\",max_value)"
   ]
  },
  {
   "cell_type": "markdown",
   "id": "36bb8ed1",
   "metadata": {},
   "source": [
    "                                            Q23"
   ]
  },
  {
   "cell_type": "code",
   "execution_count": 188,
   "id": "ddaaafab",
   "metadata": {},
   "outputs": [],
   "source": [
    "#to put spaces between words starting with capital letters"
   ]
  },
  {
   "cell_type": "code",
   "execution_count": 189,
   "id": "0c27f520",
   "metadata": {},
   "outputs": [],
   "source": [
    "text=\"IWantToBeADataScientistAndAfterLearningPythonAndMachineLearning\""
   ]
  },
  {
   "cell_type": "code",
   "execution_count": 190,
   "id": "c48992ff",
   "metadata": {},
   "outputs": [],
   "source": [
    "pattern=r\"(?<!^)(?=[A-Z])\""
   ]
  },
  {
   "cell_type": "code",
   "execution_count": 191,
   "id": "2da48c15",
   "metadata": {},
   "outputs": [],
   "source": [
    "result=re.sub(pattern,' ',text)"
   ]
  },
  {
   "cell_type": "code",
   "execution_count": 192,
   "id": "dd696133",
   "metadata": {},
   "outputs": [
    {
     "name": "stdout",
     "output_type": "stream",
     "text": [
      "I Want To Be A Data Scientist And After Learning Python And Machine Learning\n"
     ]
    }
   ],
   "source": [
    "print(result)"
   ]
  },
  {
   "cell_type": "markdown",
   "id": "46f1a8d2",
   "metadata": {},
   "source": [
    "                                            Q24"
   ]
  },
  {
   "cell_type": "code",
   "execution_count": 193,
   "id": "d6f63598",
   "metadata": {},
   "outputs": [],
   "source": [
    "#to find sequences of one upper case letter followed by lower case letters"
   ]
  },
  {
   "cell_type": "code",
   "execution_count": 194,
   "id": "c3b789da",
   "metadata": {},
   "outputs": [],
   "source": [
    "text=\"I Want to be A Data Scientist and after Learning Python and Machine Learning\""
   ]
  },
  {
   "cell_type": "code",
   "execution_count": 195,
   "id": "46675239",
   "metadata": {},
   "outputs": [],
   "source": [
    "pattern=r\"\\b[A-Z][a-z]+\\b\""
   ]
  },
  {
   "cell_type": "code",
   "execution_count": 196,
   "id": "2bc3d873",
   "metadata": {},
   "outputs": [],
   "source": [
    "result=re.findall(pattern,text)"
   ]
  },
  {
   "cell_type": "code",
   "execution_count": 197,
   "id": "fd6eab1a",
   "metadata": {},
   "outputs": [
    {
     "name": "stdout",
     "output_type": "stream",
     "text": [
      "['Want', 'Data', 'Scientist', 'Learning', 'Python', 'Machine', 'Learning']\n"
     ]
    }
   ],
   "source": [
    "print(result)"
   ]
  },
  {
   "cell_type": "markdown",
   "id": "934bbd4a",
   "metadata": {},
   "source": [
    "                                                Q25"
   ]
  },
  {
   "cell_type": "code",
   "execution_count": 198,
   "id": "560ff17e",
   "metadata": {},
   "outputs": [],
   "source": [
    "#to remove duplicate words from Sentence "
   ]
  },
  {
   "cell_type": "code",
   "execution_count": 199,
   "id": "a983a728",
   "metadata": {},
   "outputs": [],
   "source": [
    "sentence = \"The report report report further added added that the makers makers are planning to cast an A-lister as the villain in the upcoming actioner cast cast.\""
   ]
  },
  {
   "cell_type": "code",
   "execution_count": 200,
   "id": "c688171d",
   "metadata": {},
   "outputs": [],
   "source": [
    "pattern = r'\\b(\\w+)\\b(?=.*\\b\\1\\b)'"
   ]
  },
  {
   "cell_type": "code",
   "execution_count": 201,
   "id": "67ac6dc7",
   "metadata": {},
   "outputs": [],
   "source": [
    "# Find and remove duplicate words\n",
    "result=re.sub(pattern, '', sentence)"
   ]
  },
  {
   "cell_type": "code",
   "execution_count": 202,
   "id": "c2232619",
   "metadata": {},
   "outputs": [],
   "source": [
    "# Remove extra spaces\n",
    "result=re.sub(r'\\s+',' ',result)"
   ]
  },
  {
   "cell_type": "code",
   "execution_count": 203,
   "id": "be3df50e",
   "metadata": {},
   "outputs": [
    {
     "name": "stdout",
     "output_type": "stream",
     "text": [
      "The report further added that makers are planning to an A-lister as villain in the upcoming actioner cast.\n"
     ]
    }
   ],
   "source": [
    "print(result.strip())"
   ]
  },
  {
   "cell_type": "markdown",
   "id": "917773b4",
   "metadata": {},
   "source": [
    "                                                Q26"
   ]
  },
  {
   "cell_type": "code",
   "execution_count": 204,
   "id": "8dec5668",
   "metadata": {},
   "outputs": [],
   "source": [
    "#to accept string ending with alphanumeric character."
   ]
  },
  {
   "cell_type": "code",
   "execution_count": 205,
   "id": "e7f5e5aa",
   "metadata": {},
   "outputs": [],
   "source": [
    "strings=[\"India1\", \"China2\", \"Hongkong3\", \"Russia\", \"Nepal\", \"US4\", \"USA5\", \"France6\"]"
   ]
  },
  {
   "cell_type": "code",
   "execution_count": 206,
   "id": "e66f82cb",
   "metadata": {},
   "outputs": [],
   "source": [
    "pattern=r\"\\w\\d$\""
   ]
  },
  {
   "cell_type": "code",
   "execution_count": 207,
   "id": "018b6fb0",
   "metadata": {},
   "outputs": [
    {
     "name": "stdout",
     "output_type": "stream",
     "text": [
      "India1 is valid\n",
      "China2 is valid\n",
      "Hongkong3 is valid\n",
      "Russia is not valid\n",
      "Nepal is not valid\n",
      "US4 is valid\n",
      "USA5 is valid\n",
      "France6 is valid\n"
     ]
    }
   ],
   "source": [
    "for i in strings:\n",
    "    if re.search(pattern,i):\n",
    "        print(f\"{i} is valid\")\n",
    "    else:\n",
    "        print(f\"{i} is not valid\")"
   ]
  },
  {
   "cell_type": "markdown",
   "id": "8da0a35a",
   "metadata": {},
   "source": [
    "                                        Q27"
   ]
  },
  {
   "cell_type": "code",
   "execution_count": 208,
   "id": "2ba26480",
   "metadata": {},
   "outputs": [],
   "source": [
    "#to extract the hashtags."
   ]
  },
  {
   "cell_type": "code",
   "execution_count": 209,
   "id": "98a5adf2",
   "metadata": {},
   "outputs": [],
   "source": [
    "text = \"\"\"RT @kapil_kausik: #Doltiwal I mean #xyzabc is \"hurt\" by #Demonetization as the same has rendered USELESS <ed><U+00A0><U+00BD><ed><U+00B1><U+0089> \"acquired funds\" No wo\"\"\""
   ]
  },
  {
   "cell_type": "code",
   "execution_count": 210,
   "id": "e22903c0",
   "metadata": {},
   "outputs": [],
   "source": [
    "pattern=r\"#\\w+\""
   ]
  },
  {
   "cell_type": "code",
   "execution_count": 211,
   "id": "e8d131ac",
   "metadata": {},
   "outputs": [
    {
     "name": "stdout",
     "output_type": "stream",
     "text": [
      "['#Doltiwal', '#xyzabc', '#Demonetization']\n"
     ]
    }
   ],
   "source": [
    "hashtags=re.findall(pattern,text)\n",
    "print(hashtags)"
   ]
  },
  {
   "cell_type": "markdown",
   "id": "fbdb5787",
   "metadata": {},
   "source": [
    "                                            Q28"
   ]
  },
  {
   "cell_type": "code",
   "execution_count": 212,
   "id": "065dcd9c",
   "metadata": {},
   "outputs": [],
   "source": [
    "#to remove <U+..> "
   ]
  },
  {
   "cell_type": "code",
   "execution_count": 213,
   "id": "db38ddaf",
   "metadata": {},
   "outputs": [],
   "source": [
    "text=\"@Jags123456 Bharat band on 28??<ed><U+00A0><U+00BD><ed><U+00B8><U+0082>Those who are protesting #demonetization are all different party leaders\""
   ]
  },
  {
   "cell_type": "code",
   "execution_count": 214,
   "id": "837a1fb7",
   "metadata": {},
   "outputs": [],
   "source": [
    "pattern=r\"<U\\+[A-Za-z0-9]+\\>\""
   ]
  },
  {
   "cell_type": "code",
   "execution_count": 215,
   "id": "35614710",
   "metadata": {},
   "outputs": [
    {
     "name": "stdout",
     "output_type": "stream",
     "text": [
      "@Jags123456 Bharat band on 28??<ed><ed>Those who are protesting #demonetization are all different party leaders\n"
     ]
    }
   ],
   "source": [
    "cleaned_text=re.sub(pattern,'',text)\n",
    "print(cleaned_text)"
   ]
  },
  {
   "cell_type": "markdown",
   "id": "64ef08cb",
   "metadata": {},
   "source": [
    "                                            Q29"
   ]
  },
  {
   "cell_type": "code",
   "execution_count": 216,
   "id": "5e6863de",
   "metadata": {},
   "outputs": [],
   "source": [
    "#to extract dates from the text stored in the text file."
   ]
  },
  {
   "cell_type": "code",
   "execution_count": 221,
   "id": "ec609baf",
   "metadata": {},
   "outputs": [
    {
     "ename": "SyntaxError",
     "evalue": "(unicode error) 'unicodeescape' codec can't decode bytes in position 2-3: truncated \\UXXXXXXXX escape (1993491585.py, line 1)",
     "output_type": "error",
     "traceback": [
      "\u001b[1;36m  File \u001b[1;32m\"C:\\Users\\dell\\AppData\\Local\\Temp\\ipykernel_8592\\1993491585.py\"\u001b[1;36m, line \u001b[1;32m1\u001b[0m\n\u001b[1;33m    with open(\"C:\\Users\\dell\\Desktop\\content\\Extractdated.txt\")as file:\u001b[0m\n\u001b[1;37m                                                              ^\u001b[0m\n\u001b[1;31mSyntaxError\u001b[0m\u001b[1;31m:\u001b[0m (unicode error) 'unicodeescape' codec can't decode bytes in position 2-3: truncated \\UXXXXXXXX escape\n"
     ]
    }
   ],
   "source": [
    "with open(\"C:\\Users\\dell\\Desktop\\content\\Extractdated.txt\")as file:\n",
    "    text=file.read\n",
    "    # Define regex pattern to extract dates (dd-mm-yyyy format)\n",
    "pattern = r'\\b\\d{2}-\\d{2}-\\d{4}\\b'\n",
    "\n",
    "# Find all matches of the pattern in the text\n",
    "dates = re.findall(pattern, text)\n",
    "\n",
    "# Print the extracted dates\n",
    "for date in dates:\n",
    "    print(date)"
   ]
  },
  {
   "cell_type": "code",
   "execution_count": 222,
   "id": "ee72186b",
   "metadata": {},
   "outputs": [],
   "source": [
    "import regex as re"
   ]
  },
  {
   "cell_type": "code",
   "execution_count": 223,
   "id": "5d3f1fdc",
   "metadata": {},
   "outputs": [],
   "source": [
    "from IPython.utils.text import string"
   ]
  },
  {
   "cell_type": "code",
   "execution_count": 225,
   "id": "43dafb2a",
   "metadata": {},
   "outputs": [],
   "source": [
    "text = 'Python Exercises, PHP exercises.'"
   ]
  },
  {
   "cell_type": "code",
   "execution_count": 226,
   "id": "df30c287",
   "metadata": {},
   "outputs": [],
   "source": [
    "# Define the pattern to match spaces, commas, and dots\n",
    "pattern = r'[ ,.]'"
   ]
  },
  {
   "cell_type": "code",
   "execution_count": 227,
   "id": "e2b53f1a",
   "metadata": {},
   "outputs": [],
   "source": [
    "# Replace matched pattern with a colon\n",
    "replaced_text = re.sub(pattern, ':', text)"
   ]
  },
  {
   "cell_type": "code",
   "execution_count": 228,
   "id": "18f0bc2e",
   "metadata": {},
   "outputs": [
    {
     "name": "stdout",
     "output_type": "stream",
     "text": [
      "Python:Exercises::PHP:exercises:\n"
     ]
    }
   ],
   "source": [
    "print(replaced_text)"
   ]
  },
  {
   "cell_type": "code",
   "execution_count": null,
   "id": "229cf1c6",
   "metadata": {},
   "outputs": [],
   "source": []
  }
 ],
 "metadata": {
  "kernelspec": {
   "display_name": "Python 3 (ipykernel)",
   "language": "python",
   "name": "python3"
  },
  "language_info": {
   "codemirror_mode": {
    "name": "ipython",
    "version": 3
   },
   "file_extension": ".py",
   "mimetype": "text/x-python",
   "name": "python",
   "nbconvert_exporter": "python",
   "pygments_lexer": "ipython3",
   "version": "3.9.13"
  }
 },
 "nbformat": 4,
 "nbformat_minor": 5
}
