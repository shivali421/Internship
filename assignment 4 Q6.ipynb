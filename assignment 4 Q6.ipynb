{
 "cells": [
  {
   "cell_type": "code",
   "execution_count": 1,
   "id": "6968fe31",
   "metadata": {},
   "outputs": [
    {
     "name": "stdout",
     "output_type": "stream",
     "text": [
      "Requirement already satisfied: selenium in c:\\programdata\\anaconda3\\lib\\site-packages (4.9.1)\n",
      "Requirement already satisfied: trio-websocket~=0.9 in c:\\programdata\\anaconda3\\lib\\site-packages (from selenium) (0.10.2)\n",
      "Requirement already satisfied: trio~=0.17 in c:\\programdata\\anaconda3\\lib\\site-packages (from selenium) (0.22.0)\n",
      "Requirement already satisfied: urllib3[socks]<3,>=1.26 in c:\\programdata\\anaconda3\\lib\\site-packages (from selenium) (1.26.11)\n",
      "Requirement already satisfied: certifi>=2021.10.8 in c:\\programdata\\anaconda3\\lib\\site-packages (from selenium) (2022.9.14)\n",
      "Requirement already satisfied: sniffio in c:\\programdata\\anaconda3\\lib\\site-packages (from trio~=0.17->selenium) (1.2.0)\n",
      "Requirement already satisfied: cffi>=1.14 in c:\\programdata\\anaconda3\\lib\\site-packages (from trio~=0.17->selenium) (1.15.1)\n",
      "Requirement already satisfied: sortedcontainers in c:\\programdata\\anaconda3\\lib\\site-packages (from trio~=0.17->selenium) (2.4.0)\n",
      "Requirement already satisfied: attrs>=19.2.0 in c:\\programdata\\anaconda3\\lib\\site-packages (from trio~=0.17->selenium) (21.4.0)\n",
      "Requirement already satisfied: idna in c:\\programdata\\anaconda3\\lib\\site-packages (from trio~=0.17->selenium) (3.3)\n",
      "Requirement already satisfied: async-generator>=1.9 in c:\\programdata\\anaconda3\\lib\\site-packages (from trio~=0.17->selenium) (1.10)\n",
      "Requirement already satisfied: exceptiongroup>=1.0.0rc9 in c:\\programdata\\anaconda3\\lib\\site-packages (from trio~=0.17->selenium) (1.1.1)\n",
      "Requirement already satisfied: outcome in c:\\programdata\\anaconda3\\lib\\site-packages (from trio~=0.17->selenium) (1.2.0)\n",
      "Requirement already satisfied: wsproto>=0.14 in c:\\programdata\\anaconda3\\lib\\site-packages (from trio-websocket~=0.9->selenium) (1.2.0)\n",
      "Requirement already satisfied: PySocks!=1.5.7,<2.0,>=1.5.6 in c:\\programdata\\anaconda3\\lib\\site-packages (from urllib3[socks]<3,>=1.26->selenium) (1.7.1)\n",
      "Requirement already satisfied: pycparser in c:\\programdata\\anaconda3\\lib\\site-packages (from cffi>=1.14->trio~=0.17->selenium) (2.21)\n",
      "Requirement already satisfied: h11<1,>=0.9.0 in c:\\programdata\\anaconda3\\lib\\site-packages (from wsproto>=0.14->trio-websocket~=0.9->selenium) (0.14.0)\n"
     ]
    }
   ],
   "source": [
    "!pip install selenium"
   ]
  },
  {
   "cell_type": "code",
   "execution_count": 2,
   "id": "290bb8fd",
   "metadata": {},
   "outputs": [],
   "source": [
    "import selenium"
   ]
  },
  {
   "cell_type": "code",
   "execution_count": 3,
   "id": "eaeee844",
   "metadata": {},
   "outputs": [],
   "source": [
    "import pandas as pd"
   ]
  },
  {
   "cell_type": "code",
   "execution_count": 4,
   "id": "6bc12393",
   "metadata": {},
   "outputs": [],
   "source": [
    "from selenium import webdriver"
   ]
  },
  {
   "cell_type": "code",
   "execution_count": 5,
   "id": "8f0abb3b",
   "metadata": {},
   "outputs": [],
   "source": [
    "import warnings"
   ]
  },
  {
   "cell_type": "code",
   "execution_count": 6,
   "id": "01a8556e",
   "metadata": {},
   "outputs": [],
   "source": [
    "warnings.filterwarnings('ignore')"
   ]
  },
  {
   "cell_type": "code",
   "execution_count": 7,
   "id": "f80a284c",
   "metadata": {},
   "outputs": [],
   "source": [
    "from selenium.webdriver.common.by import By"
   ]
  },
  {
   "cell_type": "code",
   "execution_count": 8,
   "id": "8ee0021c",
   "metadata": {},
   "outputs": [],
   "source": [
    "import time"
   ]
  },
  {
   "cell_type": "code",
   "execution_count": 9,
   "id": "a35c86ac",
   "metadata": {},
   "outputs": [],
   "source": [
    "import requests"
   ]
  },
  {
   "cell_type": "code",
   "execution_count": 10,
   "id": "3a636203",
   "metadata": {},
   "outputs": [],
   "source": [
    "from bs4 import BeautifulSoup"
   ]
  },
  {
   "cell_type": "code",
   "execution_count": 11,
   "id": "f49c4f02",
   "metadata": {},
   "outputs": [],
   "source": [
    "from selenium.common.exceptions import ElementNotInteractableException"
   ]
  },
  {
   "cell_type": "code",
   "execution_count": 12,
   "id": "1cace692",
   "metadata": {},
   "outputs": [],
   "source": [
    "#let first connect to the driver"
   ]
  },
  {
   "cell_type": "code",
   "execution_count": 13,
   "id": "c6786ee2",
   "metadata": {},
   "outputs": [],
   "source": [
    "driver=webdriver.Chrome(r\"C:\\Users\\dell\\Downloads\\chromedriver_win32 (5)\")"
   ]
  },
  {
   "cell_type": "code",
   "execution_count": 14,
   "id": "ad4336c4",
   "metadata": {},
   "outputs": [],
   "source": [
    "driver=webdriver.Chrome(r\"chromedriver.exe\")"
   ]
  },
  {
   "cell_type": "code",
   "execution_count": 15,
   "id": "410241dc",
   "metadata": {},
   "outputs": [],
   "source": [
    "#opening highest selling novel page on automated chrome browser"
   ]
  },
  {
   "cell_type": "code",
   "execution_count": 17,
   "id": "23c761ee",
   "metadata": {},
   "outputs": [],
   "source": [
    "driver.get(\"https://www.theguardian.com/news/datablog/2012/aug/09/best-selling-books-all-time-fifty-shades-grey-compare\")"
   ]
  },
  {
   "cell_type": "code",
   "execution_count": 25,
   "id": "945909b7",
   "metadata": {},
   "outputs": [],
   "source": [
    "#scraping deatails"
   ]
  },
  {
   "cell_type": "code",
   "execution_count": 26,
   "id": "d561cdb8",
   "metadata": {},
   "outputs": [],
   "source": [
    "book_rows = driver.find_elements(By.CSS_SELECTOR, 'table tbody tr')"
   ]
  },
  {
   "cell_type": "code",
   "execution_count": 27,
   "id": "74488856",
   "metadata": {},
   "outputs": [
    {
     "name": "stdout",
     "output_type": "stream",
     "text": [
      "Da Vinci Code,The Brown, Dan 5,094,805 Transworld Crime, Thriller & Adventure\n",
      "Harry Potter and the Deathly Hallows Rowling, J.K. 4,475,152 Bloomsbury Children's Fiction\n",
      "Harry Potter and the Philosopher's Stone Rowling, J.K. 4,200,654 Bloomsbury Children's Fiction\n",
      "Harry Potter and the Order of the Phoenix Rowling, J.K. 4,179,479 Bloomsbury Children's Fiction\n",
      "Fifty Shades of Grey James, E. L. 3,758,936 Random House Romance & Sagas\n",
      "Harry Potter and the Goblet of Fire Rowling, J.K. 3,583,215 Bloomsbury Children's Fiction\n",
      "Harry Potter and the Chamber of Secrets Rowling, J.K. 3,484,047 Bloomsbury Children's Fiction\n",
      "Harry Potter and the Prisoner of Azkaban Rowling, J.K. 3,377,906 Bloomsbury Children's Fiction\n",
      "Angels and Demons Brown, Dan 3,193,946 Transworld Crime, Thriller & Adventure\n",
      "Harry Potter and the Half-blood Prince:Children's Edition Rowling, J.K. 2,950,264 Bloomsbury Children's Fiction\n",
      "Fifty Shades Darker James, E. L. 2,479,784 Random House Romance & Sagas\n",
      "Twilight Meyer, Stephenie 2,315,405 Little, Brown Book Young Adult Fiction\n",
      "Girl with the Dragon Tattoo,The:Millennium Trilogy Larsson, Stieg 2,233,570 Quercus Crime, Thriller & Adventure\n",
      "Fifty Shades Freed James, E. L. 2,193,928 Random House Romance & Sagas\n",
      "Lost Symbol,The Brown, Dan 2,183,031 Transworld Crime, Thriller & Adventure\n",
      "New Moon Meyer, Stephenie 2,152,737 Little, Brown Book Young Adult Fiction\n",
      "Deception Point Brown, Dan 2,062,145 Transworld Crime, Thriller & Adventure\n",
      "Eclipse Meyer, Stephenie 2,052,876 Little, Brown Book Young Adult Fiction\n",
      "Lovely Bones,The Sebold, Alice 2,005,598 Pan Macmillan General & Literary Fiction\n",
      "Curious Incident of the Dog in the Night-time,The Haddon, Mark 1,979,552 Random House General & Literary Fiction\n",
      "Digital Fortress Brown, Dan 1,928,900 Transworld Crime, Thriller & Adventure\n",
      "Short History of Nearly Everything,A Bryson, Bill 1,852,919 Transworld Popular Science\n",
      "Girl Who Played with Fire,The:Millennium Trilogy Larsson, Stieg 1,814,784 Quercus Crime, Thriller & Adventure\n",
      "Breaking Dawn Meyer, Stephenie 1,787,118 Little, Brown Book Young Adult Fiction\n",
      "Very Hungry Caterpillar,The:The Very Hungry Caterpillar Carle, Eric 1,783,535 Penguin Picture Books\n",
      "Gruffalo,The Donaldson, Julia 1,781,269 Pan Macmillan Picture Books\n",
      "Jamie's 30-Minute Meals Oliver, Jamie 1,743,266 Penguin Food & Drink: General\n",
      "Kite Runner,The Hosseini, Khaled 1,629,119 Bloomsbury General & Literary Fiction\n",
      "One Day Nicholls, David 1,616,068 Hodder & Stoughton General & Literary Fiction\n",
      "Thousand Splendid Suns,A Hosseini, Khaled 1,583,992 Bloomsbury General & Literary Fiction\n",
      "Girl Who Kicked the Hornets' Nest,The:Millennium Trilogy Larsson, Stieg 1,555,135 Quercus Crime, Thriller & Adventure\n",
      "Time Traveler's Wife,The Niffenegger, Audrey 1,546,886 Random House General & Literary Fiction\n",
      "Atonement McEwan, Ian 1,539,428 Random House General & Literary Fiction\n",
      "Bridget Jones's Diary:A Novel Fielding, Helen 1,508,205 Pan Macmillan General & Literary Fiction\n",
      "World According to Clarkson,The Clarkson, Jeremy 1,489,403 Penguin Humour: Collections & General\n",
      "Captain Corelli's Mandolin Bernieres, Louis de 1,352,318 Random House General & Literary Fiction\n",
      "Sound of Laughter,The Kay, Peter 1,310,207 Random House Autobiography: General\n",
      "Life of Pi Martel, Yann 1,310,176 Canongate General & Literary Fiction\n",
      "Billy Connolly Stephenson, Pamela 1,231,957 HarperCollins Biography: The Arts\n",
      "Child Called It,A Pelzer, Dave 1,217,712 Orion Autobiography: General\n",
      "Gruffalo's Child,The Donaldson, Julia 1,208,711 Pan Macmillan Picture Books\n",
      "Angela's Ashes:A Memoir of a Childhood McCourt, Frank 1,204,058 HarperCollins Autobiography: General\n",
      "Birdsong Faulks, Sebastian 1,184,967 Random House General & Literary Fiction\n",
      "Northern Lights:His Dark Materials S. Pullman, Philip 1,181,503 Scholastic Ltd. Young Adult Fiction\n",
      "Labyrinth Mosse, Kate 1,181,093 Orion General & Literary Fiction\n",
      "Harry Potter and the Half-blood Prince Rowling, J.K. 1,153,181 Bloomsbury Science Fiction & Fantasy\n",
      "Help,The Stockett, Kathryn 1,132,336 Penguin General & Literary Fiction\n",
      "Man and Boy Parsons, Tony 1,130,802 HarperCollins General & Literary Fiction\n",
      "Memoirs of a Geisha Golden, Arthur 1,126,337 Random House General & Literary Fiction\n",
      "No.1 Ladies' Detective Agency,The:No.1 Ladies' Detective Agency S. McCall Smith, Alexander 1,115,549 Little, Brown Book Crime, Thriller & Adventure\n",
      "Island,The Hislop, Victoria 1,108,328 Headline General & Literary Fiction\n",
      "PS, I Love You Ahern, Cecelia 1,107,379 HarperCollins General & Literary Fiction\n",
      "You are What You Eat:The Plan That Will Change Your Life McKeith, Gillian 1,104,403 Penguin Fitness & Diet\n",
      "Shadow of the Wind,The Zafon, Carlos Ruiz 1,092,349 Orion General & Literary Fiction\n",
      "Tales of Beedle the Bard,The Rowling, J.K. 1,090,847 Bloomsbury Children's Fiction\n",
      "Broker,The Grisham, John 1,087,262 Random House Crime, Thriller & Adventure\n",
      "Dr. Atkins' New Diet Revolution:The No-hunger, Luxurious Weight Loss P Atkins, Robert C. 1,054,196 Random House Fitness & Diet\n",
      "Subtle Knife,The:His Dark Materials S. Pullman, Philip 1,037,160 Scholastic Ltd. Young Adult Fiction\n",
      "Eats, Shoots and Leaves:The Zero Tolerance Approach to Punctuation Truss, Lynne 1,023,688 Profile Books Group Usage & Writing Guides\n",
      "Delia's How to Cook:(Bk.1) Smith, Delia 1,015,956 Random House Food & Drink: General\n",
      "Chocolat Harris, Joanne 1,009,873 Transworld General & Literary Fiction\n",
      "Boy in the Striped Pyjamas,The Boyne, John 1,004,414 Random House Childrens Books G Young Adult Fiction\n",
      "My Sister's Keeper Picoult, Jodi 1,003,780 Hodder & Stoughton General & Literary Fiction\n",
      "Amber Spyglass,The:His Dark Materials S. Pullman, Philip 1,002,314 Scholastic Ltd. Young Adult Fiction\n",
      "To Kill a Mockingbird Lee, Harper 998,213 Random House General & Literary Fiction\n",
      "Men are from Mars, Women are from Venus:A Practical Guide for Improvin Gray, John 992,846 HarperCollins Popular Culture & Media: General Interest\n",
      "Dear Fatty French, Dawn 986,753 Random House Autobiography: The Arts\n",
      "Short History of Tractors in Ukrainian,A Lewycka, Marina 986,115 Penguin General & Literary Fiction\n",
      "Hannibal Harris, Thomas 970,509 Random House Crime, Thriller & Adventure\n",
      "Lord of the Rings,The Tolkien, J. R. R. 967,466 HarperCollins Science Fiction & Fantasy\n",
      "Stupid White Men:...and Other Sorry Excuses for the State of the Natio Moore, Michael 963,353 Penguin Current Affairs & Issues\n",
      "Interpretation of Murder,The Rubenfeld, Jed 962,515 Headline Crime, Thriller & Adventure\n",
      "Sharon Osbourne Extreme:My Autobiography Osbourne, Sharon 959,496 Little, Brown Book Autobiography: The Arts\n",
      "Alchemist,The:A Fable About Following Your Dream Coelho, Paulo 956,114 HarperCollins General & Literary Fiction\n",
      "At My Mother's Knee ...:and Other Low Joints O'Grady, Paul 945,640 Transworld Autobiography: The Arts\n",
      "Notes from a Small Island Bryson, Bill 931,312 Transworld Travel Writing\n",
      "Return of the Naked Chef,The Oliver, Jamie 925,425 Penguin Food & Drink: General\n",
      "Bridget Jones: The Edge of Reason Fielding, Helen 924,695 Pan Macmillan General & Literary Fiction\n",
      "Jamie's Italy Oliver, Jamie 906,968 Penguin National & Regional Cuisine\n",
      "I Can Make You Thin McKenna, Paul 905,086 Transworld Fitness & Diet\n",
      "Down Under Bryson, Bill 890,847 Transworld Travel Writing\n",
      "Summons,The Grisham, John 869,671 Random House Crime, Thriller & Adventure\n",
      "Small Island Levy, Andrea 869,659 Headline General & Literary Fiction\n",
      "Nigella Express Lawson, Nigella 862,602 Random House Food & Drink: General\n",
      "Brick Lane Ali, Monica 856,540 Transworld General & Literary Fiction\n",
      "Memory Keeper's Daughter,The Edwards, Kim 845,858 Penguin General & Literary Fiction\n",
      "Room on the Broom Donaldson, Julia 842,535 Pan Macmillan Picture Books\n",
      "About a Boy Hornby, Nick 828,215 Penguin General & Literary Fiction\n",
      "My Booky Wook Brand, Russell 820,563 Hodder & Stoughton Autobiography: The Arts\n",
      "God Delusion,The Dawkins, Richard 816,907 Transworld Popular Science\n",
      "\"Beano\" Annual,The 0 816,585 D.C. Thomson Children's Annuals\n",
      "White Teeth Smith, Zadie 815,586 Penguin General & Literary Fiction\n",
      "House at Riverton,The Morton, Kate 814,370 Pan Macmillan General & Literary Fiction\n",
      "Book Thief,The Zusak, Markus 809,641 Transworld General & Literary Fiction\n",
      "Nights of Rain and Stars Binchy, Maeve 808,900 Orion General & Literary Fiction\n",
      "Ghost,The Harris, Robert 807,311 Random House General & Literary Fiction\n"
     ]
    },
    {
     "name": "stdout",
     "output_type": "stream",
     "text": [
      "Happy Days with the Naked Chef Oliver, Jamie 794,201 Penguin Food & Drink: General\n",
      "Hunger Games,The:Hunger Games Trilogy Collins, Suzanne 792,187 Scholastic Ltd. Young Adult Fiction\n",
      "Lost Boy,The:A Foster Child's Search for the Love of a Family Pelzer, Dave 791,507 Orion Biography: General\n",
      "Jamie's Ministry of Food:Anyone Can Learn to Cook in 24 Hours Oliver, Jamie 791,095 Penguin Food & Drink: General\n"
     ]
    }
   ],
   "source": [
    "for row in book_rows:\n",
    "    book_name = row.find_element(By.CSS_SELECTOR, 'td:nth-child(2)').text\n",
    "    author_name = row.find_element(By.CSS_SELECTOR, 'td:nth-child(3)').text\n",
    "    volume_sold = row.find_element(By.CSS_SELECTOR, 'td:nth-child(4)').text\n",
    "    publisher = row.find_element(By.CSS_SELECTOR, 'td:nth-child(5)').text\n",
    "    genre = row.find_element(By.CSS_SELECTOR, 'td:nth-child(6)').text\n",
    "    print(book_name, author_name, volume_sold, publisher, genre)"
   ]
  },
  {
   "cell_type": "code",
   "execution_count": 31,
   "id": "fa594368",
   "metadata": {},
   "outputs": [],
   "source": [
    "driver.close()"
   ]
  },
  {
   "cell_type": "code",
   "execution_count": null,
   "id": "1a98a94e",
   "metadata": {},
   "outputs": [],
   "source": []
  }
 ],
 "metadata": {
  "kernelspec": {
   "display_name": "Python 3 (ipykernel)",
   "language": "python",
   "name": "python3"
  },
  "language_info": {
   "codemirror_mode": {
    "name": "ipython",
    "version": 3
   },
   "file_extension": ".py",
   "mimetype": "text/x-python",
   "name": "python",
   "nbconvert_exporter": "python",
   "pygments_lexer": "ipython3",
   "version": "3.9.13"
  }
 },
 "nbformat": 4,
 "nbformat_minor": 5
}
