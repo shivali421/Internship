{
 "cells": [
  {
   "cell_type": "code",
   "execution_count": 1,
   "id": "6968fe31",
   "metadata": {},
   "outputs": [
    {
     "name": "stdout",
     "output_type": "stream",
     "text": [
      "Requirement already satisfied: selenium in c:\\programdata\\anaconda3\\lib\\site-packages (4.9.1)\n",
      "Requirement already satisfied: urllib3[socks]<3,>=1.26 in c:\\programdata\\anaconda3\\lib\\site-packages (from selenium) (1.26.11)\n",
      "Requirement already satisfied: trio~=0.17 in c:\\programdata\\anaconda3\\lib\\site-packages (from selenium) (0.22.0)\n",
      "Requirement already satisfied: trio-websocket~=0.9 in c:\\programdata\\anaconda3\\lib\\site-packages (from selenium) (0.10.2)\n",
      "Requirement already satisfied: certifi>=2021.10.8 in c:\\programdata\\anaconda3\\lib\\site-packages (from selenium) (2022.9.14)\n",
      "Requirement already satisfied: async-generator>=1.9 in c:\\programdata\\anaconda3\\lib\\site-packages (from trio~=0.17->selenium) (1.10)\n",
      "Requirement already satisfied: sortedcontainers in c:\\programdata\\anaconda3\\lib\\site-packages (from trio~=0.17->selenium) (2.4.0)\n",
      "Requirement already satisfied: sniffio in c:\\programdata\\anaconda3\\lib\\site-packages (from trio~=0.17->selenium) (1.2.0)\n",
      "Requirement already satisfied: exceptiongroup>=1.0.0rc9 in c:\\programdata\\anaconda3\\lib\\site-packages (from trio~=0.17->selenium) (1.1.1)\n",
      "Requirement already satisfied: outcome in c:\\programdata\\anaconda3\\lib\\site-packages (from trio~=0.17->selenium) (1.2.0)\n",
      "Requirement already satisfied: idna in c:\\programdata\\anaconda3\\lib\\site-packages (from trio~=0.17->selenium) (3.3)\n",
      "Requirement already satisfied: attrs>=19.2.0 in c:\\programdata\\anaconda3\\lib\\site-packages (from trio~=0.17->selenium) (21.4.0)\n",
      "Requirement already satisfied: cffi>=1.14 in c:\\programdata\\anaconda3\\lib\\site-packages (from trio~=0.17->selenium) (1.15.1)\n",
      "Requirement already satisfied: wsproto>=0.14 in c:\\programdata\\anaconda3\\lib\\site-packages (from trio-websocket~=0.9->selenium) (1.2.0)\n",
      "Requirement already satisfied: PySocks!=1.5.7,<2.0,>=1.5.6 in c:\\programdata\\anaconda3\\lib\\site-packages (from urllib3[socks]<3,>=1.26->selenium) (1.7.1)\n",
      "Requirement already satisfied: pycparser in c:\\programdata\\anaconda3\\lib\\site-packages (from cffi>=1.14->trio~=0.17->selenium) (2.21)\n",
      "Requirement already satisfied: h11<1,>=0.9.0 in c:\\programdata\\anaconda3\\lib\\site-packages (from wsproto>=0.14->trio-websocket~=0.9->selenium) (0.14.0)\n"
     ]
    }
   ],
   "source": [
    "!pip install selenium"
   ]
  },
  {
   "cell_type": "code",
   "execution_count": 2,
   "id": "290bb8fd",
   "metadata": {},
   "outputs": [],
   "source": [
    "import selenium"
   ]
  },
  {
   "cell_type": "code",
   "execution_count": 3,
   "id": "eaeee844",
   "metadata": {},
   "outputs": [],
   "source": [
    "import pandas as pd"
   ]
  },
  {
   "cell_type": "code",
   "execution_count": 4,
   "id": "6bc12393",
   "metadata": {},
   "outputs": [],
   "source": [
    "from selenium import webdriver"
   ]
  },
  {
   "cell_type": "code",
   "execution_count": 5,
   "id": "8f0abb3b",
   "metadata": {},
   "outputs": [],
   "source": [
    "import warnings"
   ]
  },
  {
   "cell_type": "code",
   "execution_count": 6,
   "id": "01a8556e",
   "metadata": {},
   "outputs": [],
   "source": [
    "warnings.filterwarnings('ignore')"
   ]
  },
  {
   "cell_type": "code",
   "execution_count": 7,
   "id": "f80a284c",
   "metadata": {},
   "outputs": [],
   "source": [
    "from selenium.webdriver.common.by import By"
   ]
  },
  {
   "cell_type": "code",
   "execution_count": 8,
   "id": "8ee0021c",
   "metadata": {},
   "outputs": [],
   "source": [
    "import time"
   ]
  },
  {
   "cell_type": "code",
   "execution_count": 9,
   "id": "a35c86ac",
   "metadata": {},
   "outputs": [],
   "source": [
    "import requests"
   ]
  },
  {
   "cell_type": "code",
   "execution_count": 10,
   "id": "3a636203",
   "metadata": {},
   "outputs": [],
   "source": [
    "from bs4 import BeautifulSoup"
   ]
  },
  {
   "cell_type": "code",
   "execution_count": 11,
   "id": "f49c4f02",
   "metadata": {},
   "outputs": [],
   "source": [
    "from selenium.common.exceptions import NoSuchElementException"
   ]
  },
  {
   "cell_type": "code",
   "execution_count": 12,
   "id": "1cace692",
   "metadata": {},
   "outputs": [],
   "source": [
    "#let first connect to the driver"
   ]
  },
  {
   "cell_type": "code",
   "execution_count": 13,
   "id": "c6786ee2",
   "metadata": {},
   "outputs": [],
   "source": [
    "driver=webdriver.Chrome(r\"C:\\Users\\dell\\Downloads\\chromedriver_win32 (18)\")"
   ]
  },
  {
   "cell_type": "code",
   "execution_count": 14,
   "id": "ad4336c4",
   "metadata": {},
   "outputs": [],
   "source": [
    "driver=webdriver.Chrome(r\"chromedriver.exe\")"
   ]
  },
  {
   "cell_type": "code",
   "execution_count": 15,
   "id": "e53d09d1",
   "metadata": {},
   "outputs": [],
   "source": [
    "#open BCCI page on automated chrome driver"
   ]
  },
  {
   "cell_type": "code",
   "execution_count": 16,
   "id": "96a40834",
   "metadata": {},
   "outputs": [],
   "source": [
    "driver.get(\"https://www.bcci.tv/.\")"
   ]
  },
  {
   "cell_type": "code",
   "execution_count": 17,
   "id": "410241dc",
   "metadata": {},
   "outputs": [],
   "source": [
    "category=driver.find_element(By.XPATH,\"/html/body/nav/div[1]/div[2]/ul[1]/li[2]/a\")"
   ]
  },
  {
   "cell_type": "code",
   "execution_count": 18,
   "id": "042f1b65",
   "metadata": {},
   "outputs": [],
   "source": [
    "category.click()"
   ]
  },
  {
   "cell_type": "code",
   "execution_count": 19,
   "id": "d686b1f8",
   "metadata": {},
   "outputs": [],
   "source": [
    "match_title=[]"
   ]
  },
  {
   "cell_type": "code",
   "execution_count": 20,
   "id": "728e37c9",
   "metadata": {},
   "outputs": [],
   "source": [
    "#scraping match title"
   ]
  },
  {
   "cell_type": "code",
   "execution_count": 21,
   "id": "a5b63652",
   "metadata": {},
   "outputs": [],
   "source": [
    "title_tags=driver.find_elements(By.XPATH,'//span[@class=\"matchOrderText ng-binding ng-scope\"]')"
   ]
  },
  {
   "cell_type": "code",
   "execution_count": 22,
   "id": "9b63c8da",
   "metadata": {},
   "outputs": [],
   "source": [
    "for i in title_tags[0:8]:\n",
    "    title=i.text\n",
    "    match_title.append(title)"
   ]
  },
  {
   "cell_type": "code",
   "execution_count": 23,
   "id": "f8cd4985",
   "metadata": {},
   "outputs": [],
   "source": [
    "#scraping series"
   ]
  },
  {
   "cell_type": "code",
   "execution_count": 24,
   "id": "a54578f3",
   "metadata": {},
   "outputs": [],
   "source": [
    "series=[]"
   ]
  },
  {
   "cell_type": "code",
   "execution_count": 25,
   "id": "5801bbf5",
   "metadata": {},
   "outputs": [],
   "source": [
    "series_tags=driver.find_elements(By.XPATH,'//h5[@class=\"match-tournament-name ng-binding\"]')"
   ]
  },
  {
   "cell_type": "code",
   "execution_count": 26,
   "id": "7c4c5912",
   "metadata": {},
   "outputs": [],
   "source": [
    "for i in series_tags[0:8]:\n",
    "    s=i.text\n",
    "    series.append(s)"
   ]
  },
  {
   "cell_type": "code",
   "execution_count": 27,
   "id": "862f194e",
   "metadata": {},
   "outputs": [],
   "source": [
    "#scraping place"
   ]
  },
  {
   "cell_type": "code",
   "execution_count": 28,
   "id": "a30e3874",
   "metadata": {},
   "outputs": [],
   "source": [
    "place=[]"
   ]
  },
  {
   "cell_type": "code",
   "execution_count": 29,
   "id": "3ca91638",
   "metadata": {},
   "outputs": [],
   "source": [
    "vanue_tags=driver.find_elements(By.XPATH,'//span[@class=\"ng-binding ng-scope\"]')"
   ]
  },
  {
   "cell_type": "code",
   "execution_count": 30,
   "id": "f268c8f3",
   "metadata": {},
   "outputs": [],
   "source": [
    "for i in vanue_tags[0:8]:\n",
    "    v=i.text\n",
    "    place.append(v)"
   ]
  },
  {
   "cell_type": "code",
   "execution_count": 31,
   "id": "340ddf0c",
   "metadata": {},
   "outputs": [],
   "source": [
    "#scraping date"
   ]
  },
  {
   "cell_type": "code",
   "execution_count": 32,
   "id": "31a9c9b4",
   "metadata": {},
   "outputs": [],
   "source": [
    "date=[]"
   ]
  },
  {
   "cell_type": "code",
   "execution_count": 33,
   "id": "b5b67c7c",
   "metadata": {},
   "outputs": [],
   "source": [
    "date_tags=driver.find_elements(By.XPATH,'//div[@class=\"match-dates ng-binding\"]')"
   ]
  },
  {
   "cell_type": "code",
   "execution_count": 34,
   "id": "b60b4db8",
   "metadata": {},
   "outputs": [],
   "source": [
    "for i in date_tags[0:8]:\n",
    "    d=i.text\n",
    "    date.append(d)"
   ]
  },
  {
   "cell_type": "code",
   "execution_count": 36,
   "id": "dd77fac1",
   "metadata": {},
   "outputs": [],
   "source": [
    "time=[]"
   ]
  },
  {
   "cell_type": "code",
   "execution_count": 37,
   "id": "a62b7941",
   "metadata": {},
   "outputs": [],
   "source": [
    "#scraping time"
   ]
  },
  {
   "cell_type": "code",
   "execution_count": 38,
   "id": "78a25a45",
   "metadata": {},
   "outputs": [],
   "source": [
    "time_tags=driver.find_elements(By.XPATH,'//div[@class=\"match-time no-margin ng-binding\"]')"
   ]
  },
  {
   "cell_type": "code",
   "execution_count": 39,
   "id": "ebe1cfee",
   "metadata": {},
   "outputs": [],
   "source": [
    "for i in time_tags[0:8]:\n",
    "    t=i.text\n",
    "    time.append(t)"
   ]
  },
  {
   "cell_type": "code",
   "execution_count": 40,
   "id": "32e18dd7",
   "metadata": {},
   "outputs": [],
   "source": [
    "df=pd.DataFrame({'Match title':match_title,'Series':series,'Place':place,'Date':date,'Time':time})"
   ]
  },
  {
   "cell_type": "code",
   "execution_count": 41,
   "id": "de61b1ee",
   "metadata": {},
   "outputs": [
    {
     "data": {
      "text/html": [
       "<div>\n",
       "<style scoped>\n",
       "    .dataframe tbody tr th:only-of-type {\n",
       "        vertical-align: middle;\n",
       "    }\n",
       "\n",
       "    .dataframe tbody tr th {\n",
       "        vertical-align: top;\n",
       "    }\n",
       "\n",
       "    .dataframe thead th {\n",
       "        text-align: right;\n",
       "    }\n",
       "</style>\n",
       "<table border=\"1\" class=\"dataframe\">\n",
       "  <thead>\n",
       "    <tr style=\"text-align: right;\">\n",
       "      <th></th>\n",
       "      <th>Match title</th>\n",
       "      <th>Series</th>\n",
       "      <th>Place</th>\n",
       "      <th>Date</th>\n",
       "      <th>Time</th>\n",
       "    </tr>\n",
       "  </thead>\n",
       "  <tbody>\n",
       "    <tr>\n",
       "      <th>0</th>\n",
       "      <td>1st T20I -</td>\n",
       "      <td>INDIA WOMEN TOUR OF BANGLADESH 2023</td>\n",
       "      <td>Shere Bangla National Stadium, Mirpur,</td>\n",
       "      <td>9 JUL 2023</td>\n",
       "      <td>1:30 PM IST</td>\n",
       "    </tr>\n",
       "    <tr>\n",
       "      <th>1</th>\n",
       "      <td>2nd T20I -</td>\n",
       "      <td>INDIA WOMEN TOUR OF BANGLADESH 2023</td>\n",
       "      <td>Shere Bangla National Stadium, Mirpur,</td>\n",
       "      <td>11 JUL 2023</td>\n",
       "      <td>1:30 PM IST</td>\n",
       "    </tr>\n",
       "    <tr>\n",
       "      <th>2</th>\n",
       "      <td>1st Test -</td>\n",
       "      <td>INDIA TOUR OF WEST INDIES 2023</td>\n",
       "      <td>Windsor Park,</td>\n",
       "      <td>12 JUL 2023</td>\n",
       "      <td>7:30 PM IST</td>\n",
       "    </tr>\n",
       "    <tr>\n",
       "      <th>3</th>\n",
       "      <td>3rd T20I -</td>\n",
       "      <td>INDIA WOMEN TOUR OF BANGLADESH 2023</td>\n",
       "      <td>Shere Bangla National Stadium, Mirpur,</td>\n",
       "      <td>13 JUL 2023</td>\n",
       "      <td>1:30 PM IST</td>\n",
       "    </tr>\n",
       "    <tr>\n",
       "      <th>4</th>\n",
       "      <td>1st ODI -</td>\n",
       "      <td>INDIA WOMEN TOUR OF BANGLADESH 2023</td>\n",
       "      <td>Shere Bangla National Stadium, Mirpur,</td>\n",
       "      <td>16 JUL 2023</td>\n",
       "      <td>9:00 AM IST</td>\n",
       "    </tr>\n",
       "    <tr>\n",
       "      <th>5</th>\n",
       "      <td>2nd ODI -</td>\n",
       "      <td>INDIA WOMEN TOUR OF BANGLADESH 2023</td>\n",
       "      <td>Shere Bangla National Stadium, Mirpur,</td>\n",
       "      <td>19 JUL 2023</td>\n",
       "      <td>9:00 AM IST</td>\n",
       "    </tr>\n",
       "    <tr>\n",
       "      <th>6</th>\n",
       "      <td>2nd Test -</td>\n",
       "      <td>INDIA TOUR OF WEST INDIES 2023</td>\n",
       "      <td>Queen's Park Oval,</td>\n",
       "      <td>20 JUL 2023</td>\n",
       "      <td>7:30 PM IST</td>\n",
       "    </tr>\n",
       "    <tr>\n",
       "      <th>7</th>\n",
       "      <td>3rd ODI -</td>\n",
       "      <td>INDIA WOMEN TOUR OF BANGLADESH 2023</td>\n",
       "      <td>Shere Bangla National Stadium, Mirpur,</td>\n",
       "      <td>22 JUL 2023</td>\n",
       "      <td>9:00 AM IST</td>\n",
       "    </tr>\n",
       "  </tbody>\n",
       "</table>\n",
       "</div>"
      ],
      "text/plain": [
       "  Match title                               Series  \\\n",
       "0  1st T20I -  INDIA WOMEN TOUR OF BANGLADESH 2023   \n",
       "1  2nd T20I -  INDIA WOMEN TOUR OF BANGLADESH 2023   \n",
       "2  1st Test -       INDIA TOUR OF WEST INDIES 2023   \n",
       "3  3rd T20I -  INDIA WOMEN TOUR OF BANGLADESH 2023   \n",
       "4   1st ODI -  INDIA WOMEN TOUR OF BANGLADESH 2023   \n",
       "5   2nd ODI -  INDIA WOMEN TOUR OF BANGLADESH 2023   \n",
       "6  2nd Test -       INDIA TOUR OF WEST INDIES 2023   \n",
       "7   3rd ODI -  INDIA WOMEN TOUR OF BANGLADESH 2023   \n",
       "\n",
       "                                    Place         Date         Time  \n",
       "0  Shere Bangla National Stadium, Mirpur,   9 JUL 2023  1:30 PM IST  \n",
       "1  Shere Bangla National Stadium, Mirpur,  11 JUL 2023  1:30 PM IST  \n",
       "2                           Windsor Park,  12 JUL 2023  7:30 PM IST  \n",
       "3  Shere Bangla National Stadium, Mirpur,  13 JUL 2023  1:30 PM IST  \n",
       "4  Shere Bangla National Stadium, Mirpur,  16 JUL 2023  9:00 AM IST  \n",
       "5  Shere Bangla National Stadium, Mirpur,  19 JUL 2023  9:00 AM IST  \n",
       "6                      Queen's Park Oval,  20 JUL 2023  7:30 PM IST  \n",
       "7  Shere Bangla National Stadium, Mirpur,  22 JUL 2023  9:00 AM IST  "
      ]
     },
     "execution_count": 41,
     "metadata": {},
     "output_type": "execute_result"
    }
   ],
   "source": [
    "df"
   ]
  },
  {
   "cell_type": "code",
   "execution_count": 42,
   "id": "d77fb20e",
   "metadata": {},
   "outputs": [],
   "source": [
    "driver.close()"
   ]
  },
  {
   "cell_type": "code",
   "execution_count": null,
   "id": "4fb3991e",
   "metadata": {},
   "outputs": [],
   "source": []
  }
 ],
 "metadata": {
  "kernelspec": {
   "display_name": "Python 3 (ipykernel)",
   "language": "python",
   "name": "python3"
  },
  "language_info": {
   "codemirror_mode": {
    "name": "ipython",
    "version": 3
   },
   "file_extension": ".py",
   "mimetype": "text/x-python",
   "name": "python",
   "nbconvert_exporter": "python",
   "pygments_lexer": "ipython3",
   "version": "3.9.13"
  }
 },
 "nbformat": 4,
 "nbformat_minor": 5
}
