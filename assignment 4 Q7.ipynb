{
 "cells": [
  {
   "cell_type": "code",
   "execution_count": 1,
   "id": "6968fe31",
   "metadata": {},
   "outputs": [
    {
     "name": "stdout",
     "output_type": "stream",
     "text": [
      "Requirement already satisfied: selenium in c:\\programdata\\anaconda3\\lib\\site-packages (4.9.1)\n",
      "Requirement already satisfied: trio~=0.17 in c:\\programdata\\anaconda3\\lib\\site-packages (from selenium) (0.22.0)\n",
      "Requirement already satisfied: certifi>=2021.10.8 in c:\\programdata\\anaconda3\\lib\\site-packages (from selenium) (2022.9.14)\n",
      "Requirement already satisfied: trio-websocket~=0.9 in c:\\programdata\\anaconda3\\lib\\site-packages (from selenium) (0.10.2)\n",
      "Requirement already satisfied: urllib3[socks]<3,>=1.26 in c:\\programdata\\anaconda3\\lib\\site-packages (from selenium) (1.26.11)\n",
      "Requirement already satisfied: async-generator>=1.9 in c:\\programdata\\anaconda3\\lib\\site-packages (from trio~=0.17->selenium) (1.10)\n",
      "Requirement already satisfied: cffi>=1.14 in c:\\programdata\\anaconda3\\lib\\site-packages (from trio~=0.17->selenium) (1.15.1)\n",
      "Requirement already satisfied: attrs>=19.2.0 in c:\\programdata\\anaconda3\\lib\\site-packages (from trio~=0.17->selenium) (21.4.0)\n",
      "Requirement already satisfied: exceptiongroup>=1.0.0rc9 in c:\\programdata\\anaconda3\\lib\\site-packages (from trio~=0.17->selenium) (1.1.1)\n",
      "Requirement already satisfied: outcome in c:\\programdata\\anaconda3\\lib\\site-packages (from trio~=0.17->selenium) (1.2.0)\n",
      "Requirement already satisfied: idna in c:\\programdata\\anaconda3\\lib\\site-packages (from trio~=0.17->selenium) (3.3)\n",
      "Requirement already satisfied: sortedcontainers in c:\\programdata\\anaconda3\\lib\\site-packages (from trio~=0.17->selenium) (2.4.0)\n",
      "Requirement already satisfied: sniffio in c:\\programdata\\anaconda3\\lib\\site-packages (from trio~=0.17->selenium) (1.2.0)\n",
      "Requirement already satisfied: wsproto>=0.14 in c:\\programdata\\anaconda3\\lib\\site-packages (from trio-websocket~=0.9->selenium) (1.2.0)\n",
      "Requirement already satisfied: PySocks!=1.5.7,<2.0,>=1.5.6 in c:\\programdata\\anaconda3\\lib\\site-packages (from urllib3[socks]<3,>=1.26->selenium) (1.7.1)\n",
      "Requirement already satisfied: pycparser in c:\\programdata\\anaconda3\\lib\\site-packages (from cffi>=1.14->trio~=0.17->selenium) (2.21)\n",
      "Requirement already satisfied: h11<1,>=0.9.0 in c:\\programdata\\anaconda3\\lib\\site-packages (from wsproto>=0.14->trio-websocket~=0.9->selenium) (0.14.0)\n"
     ]
    }
   ],
   "source": [
    "!pip install selenium"
   ]
  },
  {
   "cell_type": "code",
   "execution_count": 2,
   "id": "290bb8fd",
   "metadata": {},
   "outputs": [],
   "source": [
    "import selenium"
   ]
  },
  {
   "cell_type": "code",
   "execution_count": 3,
   "id": "eaeee844",
   "metadata": {},
   "outputs": [],
   "source": [
    "import pandas as pd"
   ]
  },
  {
   "cell_type": "code",
   "execution_count": 4,
   "id": "6bc12393",
   "metadata": {},
   "outputs": [],
   "source": [
    "from selenium import webdriver"
   ]
  },
  {
   "cell_type": "code",
   "execution_count": 5,
   "id": "8f0abb3b",
   "metadata": {},
   "outputs": [],
   "source": [
    "import warnings"
   ]
  },
  {
   "cell_type": "code",
   "execution_count": 6,
   "id": "01a8556e",
   "metadata": {},
   "outputs": [],
   "source": [
    "warnings.filterwarnings('ignore')"
   ]
  },
  {
   "cell_type": "code",
   "execution_count": 7,
   "id": "f80a284c",
   "metadata": {},
   "outputs": [],
   "source": [
    "from selenium.webdriver.common.by import By"
   ]
  },
  {
   "cell_type": "code",
   "execution_count": 8,
   "id": "8ee0021c",
   "metadata": {},
   "outputs": [],
   "source": [
    "import time"
   ]
  },
  {
   "cell_type": "code",
   "execution_count": 9,
   "id": "a35c86ac",
   "metadata": {},
   "outputs": [],
   "source": [
    "import requests"
   ]
  },
  {
   "cell_type": "code",
   "execution_count": 10,
   "id": "3a636203",
   "metadata": {},
   "outputs": [],
   "source": [
    "from bs4 import BeautifulSoup"
   ]
  },
  {
   "cell_type": "code",
   "execution_count": 11,
   "id": "f49c4f02",
   "metadata": {},
   "outputs": [],
   "source": [
    "from selenium.common.exceptions import ElementNotInteractableException"
   ]
  },
  {
   "cell_type": "code",
   "execution_count": 12,
   "id": "1cace692",
   "metadata": {},
   "outputs": [],
   "source": [
    "#let first connect to the driver"
   ]
  },
  {
   "cell_type": "code",
   "execution_count": 13,
   "id": "c6786ee2",
   "metadata": {},
   "outputs": [],
   "source": [
    "driver=webdriver.Chrome(r\"C:\\Users\\dell\\Downloads\\chromedriver_win32 (5)\")"
   ]
  },
  {
   "cell_type": "code",
   "execution_count": 14,
   "id": "ad4336c4",
   "metadata": {},
   "outputs": [],
   "source": [
    "driver=webdriver.Chrome(r\"chromedriver.exe\")"
   ]
  },
  {
   "cell_type": "code",
   "execution_count": 15,
   "id": "410241dc",
   "metadata": {},
   "outputs": [],
   "source": [
    "#opening IMDB page on automated chrome browser"
   ]
  },
  {
   "cell_type": "code",
   "execution_count": 16,
   "id": "23c761ee",
   "metadata": {},
   "outputs": [],
   "source": [
    "driver.get(\"https://www.imdb.com/list/ls095964455/\")"
   ]
  },
  {
   "cell_type": "code",
   "execution_count": 17,
   "id": "1a98a94e",
   "metadata": {},
   "outputs": [],
   "source": [
    "#scraping names of tv shows and year span"
   ]
  },
  {
   "cell_type": "code",
   "execution_count": 20,
   "id": "671c5b98",
   "metadata": {},
   "outputs": [],
   "source": [
    "name=[]"
   ]
  },
  {
   "cell_type": "code",
   "execution_count": 21,
   "id": "c144b595",
   "metadata": {},
   "outputs": [],
   "source": [
    "name_tags=driver.find_elements(By.XPATH,'//h3[@href=\"lister-item-header\"]')"
   ]
  },
  {
   "cell_type": "code",
   "execution_count": 22,
   "id": "52e382d3",
   "metadata": {},
   "outputs": [],
   "source": [
    "for i in name_tags[0:100]:\n",
    "    n=i.text\n",
    "    name.append(n)"
   ]
  },
  {
   "cell_type": "code",
   "execution_count": 24,
   "id": "9e16930d",
   "metadata": {},
   "outputs": [
    {
     "data": {
      "text/plain": [
       "['1. Game of Thrones (2011–2019)',\n",
       " '2. Stranger Things (2016–2024)',\n",
       " '3. The Walking Dead (2010–2022)',\n",
       " '4. 13 Reasons Why (2017–2020)',\n",
       " '5. The 100 (2014–2020)',\n",
       " '6. Orange Is the New Black (2013–2019)',\n",
       " '7. Riverdale (2017–2023)',\n",
       " \"8. Grey's Anatomy (2005– )\",\n",
       " '9. The Flash (2014–2023)',\n",
       " '10. Arrow (2012–2020)',\n",
       " '11. Money Heist (2017–2021)',\n",
       " '12. The Big Bang Theory (2007–2019)',\n",
       " '13. Black Mirror (2011– )',\n",
       " '14. Sherlock (2010–2017)',\n",
       " '15. Vikings (2013–2020)',\n",
       " '16. Pretty Little Liars (2010–2017)',\n",
       " '17. The Vampire Diaries (2009–2017)',\n",
       " '18. American Horror Story (2011– )',\n",
       " '19. Breaking Bad (2008–2013)',\n",
       " '20. Lucifer (2016–2021)',\n",
       " '21. Supernatural (2005–2020)',\n",
       " '22. Prison Break (2005–2017)',\n",
       " '23. How to Get Away with Murder (2014–2020)',\n",
       " '24. Teen Wolf (2011–2017)',\n",
       " '25. The Simpsons (1989– )',\n",
       " '26. Once Upon a Time (2011–2018)',\n",
       " '27. Narcos (2015–2017)',\n",
       " '28. Daredevil (2015–2018)',\n",
       " '29. Friends (1994–2004)',\n",
       " '30. How I Met Your Mother (2005–2014)',\n",
       " '31. Suits (2011–2019)',\n",
       " '32. Mr. Robot (2015–2019)',\n",
       " '33. The Originals (2013–2018)',\n",
       " '34. Supergirl (2015–2021)',\n",
       " '35. Gossip Girl (2007–2012)',\n",
       " '36. Sense8 (2015–2018)',\n",
       " '37. Gotham (2014–2019)',\n",
       " '38. Westworld (2016–2022)',\n",
       " '39. Jessica Jones (2015–2019)',\n",
       " '40. Modern Family (2009–2020)',\n",
       " '41. Rick and Morty (2013– )',\n",
       " '42. Shadowhunters (2016–2019)',\n",
       " '43. The End of the F***ing World (2017–2019)',\n",
       " '44. House of Cards (2013–2018)',\n",
       " '45. Dark (2017–2020)',\n",
       " '46. Elite (2018– )',\n",
       " '47. Sex Education (2019– )',\n",
       " '48. Shameless (2011–2021)',\n",
       " '49. New Girl (2011–2018)',\n",
       " '50. Agents of S.H.I.E.L.D. (2013–2020)',\n",
       " '51. You (2018–2024)',\n",
       " '52. Dexter (2006– )',\n",
       " '53. Fear the Walking Dead (2015–2023)',\n",
       " '54. Family Guy (1999– )',\n",
       " '55. The Blacklist (2013–2023)',\n",
       " '56. Lost (2004–2010)',\n",
       " '57. Peaky Blinders (2013–2022)',\n",
       " '58. House (2004–2012)',\n",
       " '59. Quantico (2015–2018)',\n",
       " '60. Orphan Black (2013–2017)',\n",
       " '61. Homeland (2011–2020)',\n",
       " '62. Blindspot (2015–2020)',\n",
       " \"63. DC's Legends of Tomorrow (2016–2022)\",\n",
       " \"64. The Handmaid's Tale (2017– )\",\n",
       " '65. Chilling Adventures of Sabrina (2018–2020)',\n",
       " '66. The Good Doctor (2017– )',\n",
       " '67. Jane the Virgin (2014–2019)',\n",
       " '68. Glee (2009–2015)',\n",
       " '69. South Park (1997– )',\n",
       " '70. Brooklyn Nine-Nine (2013–2021)',\n",
       " '71. Under the Dome (2013–2015)',\n",
       " '72. The Umbrella Academy (2019–2023)',\n",
       " '73. True Detective (2014– )',\n",
       " '74. The OA (2016–2019)',\n",
       " '75. Desperate Housewives (2004–2012)',\n",
       " '76. Better Call Saul (2015–2022)',\n",
       " '77. Bates Motel (2013–2017)',\n",
       " '78. The Punisher (2017–2019)',\n",
       " '79. Atypical (2017–2021)',\n",
       " '80. Dynasty (2017–2022)',\n",
       " '81. This Is Us (2016–2022)',\n",
       " '82. The Good Place (2016–2020)',\n",
       " '83. Iron Fist (2017–2018)',\n",
       " '84. The Rain (2018–2020)',\n",
       " '85. Mindhunter (2017–2019)',\n",
       " '86. Revenge (2011–2015)',\n",
       " '87. Luke Cage (2016–2018)',\n",
       " '88. Scandal (2012–2018)',\n",
       " '89. The Defenders (2017)',\n",
       " '90. Big Little Lies (2017–2019)',\n",
       " '91. Insatiable (2018–2019)',\n",
       " '92. The Mentalist (2008–2015)',\n",
       " '93. The Crown (2016–2023)',\n",
       " '94. Chernobyl (2019)',\n",
       " '95. iZombie (2015–2019)',\n",
       " '96. Reign (2013–2017)',\n",
       " '97. A Series of Unfortunate Events (2017–2019)',\n",
       " '98. Criminal Minds (2005– )',\n",
       " '99. Scream: The TV Series (2015–2019)',\n",
       " '100. The Haunting of Hill House (2018)']"
      ]
     },
     "execution_count": 24,
     "metadata": {},
     "output_type": "execute_result"
    }
   ],
   "source": [
    "name"
   ]
  },
  {
   "cell_type": "code",
   "execution_count": 25,
   "id": "32561a4e",
   "metadata": {},
   "outputs": [],
   "source": [
    "#scraping Genre"
   ]
  },
  {
   "cell_type": "code",
   "execution_count": 27,
   "id": "73ddfd85",
   "metadata": {},
   "outputs": [],
   "source": [
    "genre=[]"
   ]
  },
  {
   "cell_type": "code",
   "execution_count": 28,
   "id": "a6943121",
   "metadata": {},
   "outputs": [],
   "source": [
    "category=driver.find_elements(By.XPATH,'//span[@class=\"genre\"]')"
   ]
  },
  {
   "cell_type": "code",
   "execution_count": 29,
   "id": "9f1a9e97",
   "metadata": {},
   "outputs": [],
   "source": [
    "for i in category[0:100]:\n",
    "    g=i.text\n",
    "    genre.append(g)"
   ]
  },
  {
   "cell_type": "code",
   "execution_count": 30,
   "id": "ef6a4628",
   "metadata": {},
   "outputs": [
    {
     "data": {
      "text/plain": [
       "['Action, Adventure, Drama',\n",
       " 'Drama, Fantasy, Horror',\n",
       " 'Drama, Horror, Thriller',\n",
       " 'Drama, Mystery, Thriller',\n",
       " 'Drama, Mystery, Sci-Fi',\n",
       " 'Comedy, Crime, Drama',\n",
       " 'Crime, Drama, Mystery',\n",
       " 'Drama, Romance',\n",
       " 'Action, Adventure, Drama',\n",
       " 'Action, Adventure, Crime',\n",
       " 'Action, Crime, Drama',\n",
       " 'Comedy, Romance',\n",
       " 'Drama, Mystery, Sci-Fi',\n",
       " 'Crime, Drama, Mystery',\n",
       " 'Action, Adventure, Drama',\n",
       " 'Drama, Mystery, Romance',\n",
       " 'Drama, Fantasy, Horror',\n",
       " 'Drama, Horror, Sci-Fi',\n",
       " 'Crime, Drama, Thriller',\n",
       " 'Crime, Drama, Fantasy',\n",
       " 'Drama, Fantasy, Horror',\n",
       " 'Action, Crime, Drama',\n",
       " 'Crime, Drama, Mystery',\n",
       " 'Action, Drama, Fantasy',\n",
       " 'Animation, Comedy',\n",
       " 'Adventure, Fantasy, Romance',\n",
       " 'Biography, Crime, Drama',\n",
       " 'Action, Crime, Drama',\n",
       " 'Comedy, Romance',\n",
       " 'Comedy, Drama, Romance',\n",
       " 'Comedy, Drama',\n",
       " 'Crime, Drama, Thriller',\n",
       " 'Drama, Fantasy, Horror',\n",
       " 'Action, Adventure, Drama',\n",
       " 'Drama, Romance',\n",
       " 'Drama, Mystery, Sci-Fi',\n",
       " 'Action, Crime, Drama',\n",
       " 'Drama, Mystery, Sci-Fi',\n",
       " 'Action, Crime, Drama',\n",
       " 'Comedy, Drama, Romance',\n",
       " 'Animation, Adventure, Comedy',\n",
       " 'Action, Drama, Fantasy',\n",
       " 'Adventure, Comedy, Crime',\n",
       " 'Drama',\n",
       " 'Crime, Drama, Mystery',\n",
       " 'Crime, Drama, Thriller',\n",
       " 'Comedy, Drama',\n",
       " 'Comedy, Drama',\n",
       " 'Comedy, Romance',\n",
       " 'Action, Adventure, Drama',\n",
       " 'Crime, Drama, Romance',\n",
       " 'Crime, Drama, Mystery',\n",
       " 'Drama, Horror, Sci-Fi',\n",
       " 'Animation, Comedy',\n",
       " 'Crime, Drama, Mystery',\n",
       " 'Adventure, Drama, Fantasy',\n",
       " 'Crime, Drama',\n",
       " 'Drama, Mystery',\n",
       " 'Crime, Drama, Mystery',\n",
       " 'Drama, Sci-Fi, Thriller',\n",
       " 'Crime, Drama, Mystery',\n",
       " 'Action, Crime, Drama',\n",
       " 'Action, Adventure, Drama',\n",
       " 'Drama, Sci-Fi, Thriller',\n",
       " 'Drama, Fantasy, Horror',\n",
       " 'Drama',\n",
       " 'Comedy',\n",
       " 'Comedy, Drama, Music',\n",
       " 'Animation, Comedy',\n",
       " 'Comedy, Crime',\n",
       " 'Drama, Mystery, Sci-Fi',\n",
       " 'Action, Adventure, Comedy',\n",
       " 'Crime, Drama, Mystery',\n",
       " 'Drama, Fantasy, Mystery',\n",
       " 'Comedy, Drama, Mystery',\n",
       " 'Crime, Drama',\n",
       " 'Drama, Horror, Mystery',\n",
       " 'Action, Crime, Drama',\n",
       " 'Comedy, Drama',\n",
       " 'Drama',\n",
       " 'Comedy, Drama, Romance',\n",
       " 'Comedy, Drama, Fantasy',\n",
       " 'Action, Adventure, Crime',\n",
       " 'Drama, Sci-Fi, Thriller',\n",
       " 'Crime, Drama, Mystery',\n",
       " 'Drama, Mystery, Thriller',\n",
       " 'Action, Crime, Drama',\n",
       " 'Drama, Thriller',\n",
       " 'Action, Adventure, Crime',\n",
       " 'Crime, Drama, Mystery',\n",
       " 'Comedy, Drama, Thriller',\n",
       " 'Crime, Drama, Mystery',\n",
       " 'Biography, Drama, History',\n",
       " 'Drama, History, Thriller',\n",
       " 'Comedy, Crime, Drama',\n",
       " 'Drama',\n",
       " 'Adventure, Comedy, Drama',\n",
       " 'Crime, Drama, Mystery',\n",
       " 'Comedy, Crime, Drama',\n",
       " 'Drama, Horror, Mystery']"
      ]
     },
     "execution_count": 30,
     "metadata": {},
     "output_type": "execute_result"
    }
   ],
   "source": [
    "genre"
   ]
  },
  {
   "cell_type": "code",
   "execution_count": 31,
   "id": "5510c167",
   "metadata": {},
   "outputs": [],
   "source": [
    "#scraping runtime"
   ]
  },
  {
   "cell_type": "code",
   "execution_count": 32,
   "id": "74856448",
   "metadata": {},
   "outputs": [],
   "source": [
    "run_time=[]"
   ]
  },
  {
   "cell_type": "code",
   "execution_count": 33,
   "id": "9fa34060",
   "metadata": {},
   "outputs": [],
   "source": [
    "duration=driver.find_elements(By.XPATH,'//span[@class=\"runtime\"]')"
   ]
  },
  {
   "cell_type": "code",
   "execution_count": 34,
   "id": "a3190d49",
   "metadata": {},
   "outputs": [],
   "source": [
    "for i in duration[0:100]:\n",
    "    time=i.text\n",
    "    run_time.append(time)"
   ]
  },
  {
   "cell_type": "code",
   "execution_count": 35,
   "id": "f92cd8f8",
   "metadata": {},
   "outputs": [
    {
     "data": {
      "text/plain": [
       "['57 min',\n",
       " '51 min',\n",
       " '44 min',\n",
       " '60 min',\n",
       " '43 min',\n",
       " '59 min',\n",
       " '45 min',\n",
       " '41 min',\n",
       " '43 min',\n",
       " '42 min',\n",
       " '70 min',\n",
       " '22 min',\n",
       " '60 min',\n",
       " '88 min',\n",
       " '44 min',\n",
       " '44 min',\n",
       " '43 min',\n",
       " '60 min',\n",
       " '49 min',\n",
       " '42 min',\n",
       " '44 min',\n",
       " '44 min',\n",
       " '43 min',\n",
       " '41 min',\n",
       " '22 min',\n",
       " '60 min',\n",
       " '49 min',\n",
       " '54 min',\n",
       " '22 min',\n",
       " '22 min',\n",
       " '44 min',\n",
       " '49 min',\n",
       " '45 min',\n",
       " '43 min',\n",
       " '42 min',\n",
       " '60 min',\n",
       " '42 min',\n",
       " '62 min',\n",
       " '56 min',\n",
       " '22 min',\n",
       " '23 min',\n",
       " '42 min',\n",
       " '25 min',\n",
       " '51 min',\n",
       " '60 min',\n",
       " '60 min',\n",
       " '45 min',\n",
       " '46 min',\n",
       " '22 min',\n",
       " '45 min',\n",
       " '45 min',\n",
       " '53 min',\n",
       " '44 min',\n",
       " '22 min',\n",
       " '43 min',\n",
       " '44 min',\n",
       " '60 min',\n",
       " '44 min',\n",
       " '42 min',\n",
       " '44 min',\n",
       " '55 min',\n",
       " '42 min',\n",
       " '42 min',\n",
       " '60 min',\n",
       " '60 min',\n",
       " '41 min',\n",
       " '60 min',\n",
       " '44 min',\n",
       " '22 min',\n",
       " '22 min',\n",
       " '43 min',\n",
       " '60 min',\n",
       " '55 min',\n",
       " '60 min',\n",
       " '45 min',\n",
       " '46 min',\n",
       " '45 min',\n",
       " '53 min',\n",
       " '30 min',\n",
       " '42 min',\n",
       " '45 min',\n",
       " '22 min',\n",
       " '55 min',\n",
       " '45 min',\n",
       " '60 min',\n",
       " '44 min',\n",
       " '55 min',\n",
       " '43 min',\n",
       " '50 min',\n",
       " '60 min',\n",
       " '45 min',\n",
       " '43 min',\n",
       " '58 min',\n",
       " '330 min',\n",
       " '42 min',\n",
       " '42 min',\n",
       " '50 min',\n",
       " '42 min',\n",
       " '45 min',\n",
       " '572 min']"
      ]
     },
     "execution_count": 35,
     "metadata": {},
     "output_type": "execute_result"
    }
   ],
   "source": [
    "run_time"
   ]
  },
  {
   "cell_type": "code",
   "execution_count": 36,
   "id": "25b9a815",
   "metadata": {},
   "outputs": [],
   "source": [
    "#scraping rating"
   ]
  },
  {
   "cell_type": "code",
   "execution_count": 37,
   "id": "dda95d67",
   "metadata": {},
   "outputs": [],
   "source": [
    "rating=[]"
   ]
  },
  {
   "cell_type": "code",
   "execution_count": 38,
   "id": "4a5a1872",
   "metadata": {},
   "outputs": [],
   "source": [
    "rate=driver.find_elements(By.XPATH,'//span[@class=\"ipl-rating-star__rating\"]')"
   ]
  },
  {
   "cell_type": "code",
   "execution_count": 39,
   "id": "be660a05",
   "metadata": {},
   "outputs": [],
   "source": [
    "for i in rate[0:100]:\n",
    "    r=i.text\n",
    "    rating.append(r)"
   ]
  },
  {
   "cell_type": "code",
   "execution_count": 40,
   "id": "896e8d71",
   "metadata": {},
   "outputs": [
    {
     "data": {
      "text/plain": [
       "['9.2',\n",
       " '',\n",
       " 'Rate',\n",
       " '',\n",
       " '',\n",
       " '',\n",
       " '',\n",
       " '',\n",
       " '',\n",
       " '',\n",
       " '',\n",
       " '',\n",
       " '',\n",
       " '',\n",
       " '',\n",
       " '',\n",
       " '',\n",
       " '',\n",
       " '',\n",
       " '',\n",
       " '',\n",
       " '',\n",
       " '',\n",
       " '8.7',\n",
       " '',\n",
       " 'Rate',\n",
       " '',\n",
       " '',\n",
       " '',\n",
       " '',\n",
       " '',\n",
       " '',\n",
       " '',\n",
       " '',\n",
       " '',\n",
       " '',\n",
       " '',\n",
       " '',\n",
       " '',\n",
       " '',\n",
       " '',\n",
       " '',\n",
       " '',\n",
       " '',\n",
       " '',\n",
       " '',\n",
       " '8.1',\n",
       " '',\n",
       " 'Rate',\n",
       " '',\n",
       " '',\n",
       " '',\n",
       " '',\n",
       " '',\n",
       " '',\n",
       " '',\n",
       " '',\n",
       " '',\n",
       " '',\n",
       " '',\n",
       " '',\n",
       " '',\n",
       " '',\n",
       " '',\n",
       " '',\n",
       " '',\n",
       " '',\n",
       " '',\n",
       " '',\n",
       " '7.5',\n",
       " '',\n",
       " 'Rate',\n",
       " '',\n",
       " '',\n",
       " '',\n",
       " '',\n",
       " '',\n",
       " '',\n",
       " '',\n",
       " '',\n",
       " '',\n",
       " '',\n",
       " '',\n",
       " '',\n",
       " '',\n",
       " '',\n",
       " '',\n",
       " '',\n",
       " '',\n",
       " '',\n",
       " '',\n",
       " '',\n",
       " '7.6',\n",
       " '',\n",
       " 'Rate',\n",
       " '',\n",
       " '',\n",
       " '',\n",
       " '',\n",
       " '']"
      ]
     },
     "execution_count": 40,
     "metadata": {},
     "output_type": "execute_result"
    }
   ],
   "source": [
    "rating"
   ]
  },
  {
   "cell_type": "code",
   "execution_count": 41,
   "id": "286d0c23",
   "metadata": {},
   "outputs": [],
   "source": [
    "#scraping votes"
   ]
  },
  {
   "cell_type": "code",
   "execution_count": 42,
   "id": "a3dc14f1",
   "metadata": {},
   "outputs": [],
   "source": [
    "votes=[]"
   ]
  },
  {
   "cell_type": "code",
   "execution_count": 43,
   "id": "437ebcde",
   "metadata": {},
   "outputs": [],
   "source": [
    "vote=driver.find_elements(By.XPATH,'//span[@name=\"nv\"]')"
   ]
  },
  {
   "cell_type": "code",
   "execution_count": 44,
   "id": "719470e4",
   "metadata": {},
   "outputs": [],
   "source": [
    "for i in vote[0:100]:\n",
    "    v=i.text\n",
    "    votes.append(v)"
   ]
  },
  {
   "cell_type": "code",
   "execution_count": 45,
   "id": "c74342fc",
   "metadata": {},
   "outputs": [
    {
     "data": {
      "text/plain": [
       "['2,174,247',\n",
       " '1,252,048',\n",
       " '1,032,745',\n",
       " '303,654',\n",
       " '262,811',\n",
       " '310,717',\n",
       " '149,524',\n",
       " '323,941',\n",
       " '359,796',\n",
       " '438,782',\n",
       " '498,956',\n",
       " '832,278',\n",
       " '590,512',\n",
       " '954,803',\n",
       " '554,100',\n",
       " '172,564',\n",
       " '332,884',\n",
       " '328,197',\n",
       " '1,993,480',\n",
       " '338,058',\n",
       " '461,024',\n",
       " '554,299',\n",
       " '158,397',\n",
       " '156,610',\n",
       " '419,540',\n",
       " '230,187',\n",
       " '444,792',\n",
       " '455,187',\n",
       " '1,031,435',\n",
       " '703,389',\n",
       " '429,026',\n",
       " '400,451',\n",
       " '141,385',\n",
       " '127,000',\n",
       " '181,788',\n",
       " '158,425',\n",
       " '235,535',\n",
       " '517,060',\n",
       " '220,163',\n",
       " '453,443',\n",
       " '556,304',\n",
       " '66,941',\n",
       " '204,482',\n",
       " '516,163',\n",
       " '412,163',\n",
       " '84,837',\n",
       " '302,991',\n",
       " '257,688',\n",
       " '234,857',\n",
       " '221,251',\n",
       " '280,451',\n",
       " '740,855',\n",
       " '136,140',\n",
       " '351,847',\n",
       " '264,632',\n",
       " '570,585',\n",
       " '586,454',\n",
       " '482,293',\n",
       " '62,438',\n",
       " '113,713',\n",
       " '350,518',\n",
       " '76,590',\n",
       " '107,709',\n",
       " '247,700',\n",
       " '101,506',\n",
       " '104,144',\n",
       " '54,827',\n",
       " '152,032',\n",
       " '390,141',\n",
       " '335,375',\n",
       " '109,446',\n",
       " '259,292',\n",
       " '598,714',\n",
       " '109,144',\n",
       " '133,545',\n",
       " '584,123',\n",
       " '112,212',\n",
       " '249,172',\n",
       " '96,490',\n",
       " '23,846',\n",
       " '150,353',\n",
       " '173,733',\n",
       " '135,332',\n",
       " '39,415',\n",
       " '308,355',\n",
       " '122,363',\n",
       " '135,343',\n",
       " '76,902',\n",
       " '112,201',\n",
       " '211,396',\n",
       " '30,739',\n",
       " '191,821',\n",
       " '231,219',\n",
       " '803,464',\n",
       " '71,293',\n",
       " '51,977',\n",
       " '64,009',\n",
       " '208,594',\n",
       " '43,409',\n",
       " '260,329']"
      ]
     },
     "execution_count": 45,
     "metadata": {},
     "output_type": "execute_result"
    }
   ],
   "source": [
    "votes"
   ]
  },
  {
   "cell_type": "code",
   "execution_count": 46,
   "id": "4d1e9438",
   "metadata": {},
   "outputs": [],
   "source": [
    "driver.close()"
   ]
  },
  {
   "cell_type": "code",
   "execution_count": null,
   "id": "d4e5b27b",
   "metadata": {},
   "outputs": [],
   "source": []
  }
 ],
 "metadata": {
  "kernelspec": {
   "display_name": "Python 3 (ipykernel)",
   "language": "python",
   "name": "python3"
  },
  "language_info": {
   "codemirror_mode": {
    "name": "ipython",
    "version": 3
   },
   "file_extension": ".py",
   "mimetype": "text/x-python",
   "name": "python",
   "nbconvert_exporter": "python",
   "pygments_lexer": "ipython3",
   "version": "3.9.13"
  }
 },
 "nbformat": 4,
 "nbformat_minor": 5
}
