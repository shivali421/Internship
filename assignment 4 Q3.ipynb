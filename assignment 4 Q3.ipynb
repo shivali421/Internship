{
 "cells": [
  {
   "cell_type": "code",
   "execution_count": 23,
   "id": "6968fe31",
   "metadata": {},
   "outputs": [
    {
     "name": "stdout",
     "output_type": "stream",
     "text": [
      "Requirement already satisfied: selenium in c:\\programdata\\anaconda3\\lib\\site-packages (4.9.1)\n",
      "Requirement already satisfied: trio~=0.17 in c:\\programdata\\anaconda3\\lib\\site-packages (from selenium) (0.22.0)\n",
      "Requirement already satisfied: certifi>=2021.10.8 in c:\\programdata\\anaconda3\\lib\\site-packages (from selenium) (2022.9.14)\n",
      "Requirement already satisfied: trio-websocket~=0.9 in c:\\programdata\\anaconda3\\lib\\site-packages (from selenium) (0.10.2)\n",
      "Requirement already satisfied: urllib3[socks]<3,>=1.26 in c:\\programdata\\anaconda3\\lib\\site-packages (from selenium) (1.26.11)\n",
      "Requirement already satisfied: async-generator>=1.9 in c:\\programdata\\anaconda3\\lib\\site-packages (from trio~=0.17->selenium) (1.10)\n",
      "Requirement already satisfied: idna in c:\\programdata\\anaconda3\\lib\\site-packages (from trio~=0.17->selenium) (3.3)\n",
      "Requirement already satisfied: outcome in c:\\programdata\\anaconda3\\lib\\site-packages (from trio~=0.17->selenium) (1.2.0)\n",
      "Requirement already satisfied: sortedcontainers in c:\\programdata\\anaconda3\\lib\\site-packages (from trio~=0.17->selenium) (2.4.0)\n",
      "Requirement already satisfied: exceptiongroup>=1.0.0rc9 in c:\\programdata\\anaconda3\\lib\\site-packages (from trio~=0.17->selenium) (1.1.1)\n",
      "Requirement already satisfied: sniffio in c:\\programdata\\anaconda3\\lib\\site-packages (from trio~=0.17->selenium) (1.2.0)\n",
      "Requirement already satisfied: attrs>=19.2.0 in c:\\programdata\\anaconda3\\lib\\site-packages (from trio~=0.17->selenium) (21.4.0)\n",
      "Requirement already satisfied: cffi>=1.14 in c:\\programdata\\anaconda3\\lib\\site-packages (from trio~=0.17->selenium) (1.15.1)\n",
      "Requirement already satisfied: wsproto>=0.14 in c:\\programdata\\anaconda3\\lib\\site-packages (from trio-websocket~=0.9->selenium) (1.2.0)\n",
      "Requirement already satisfied: PySocks!=1.5.7,<2.0,>=1.5.6 in c:\\programdata\\anaconda3\\lib\\site-packages (from urllib3[socks]<3,>=1.26->selenium) (1.7.1)\n",
      "Requirement already satisfied: pycparser in c:\\programdata\\anaconda3\\lib\\site-packages (from cffi>=1.14->trio~=0.17->selenium) (2.21)\n",
      "Requirement already satisfied: h11<1,>=0.9.0 in c:\\programdata\\anaconda3\\lib\\site-packages (from wsproto>=0.14->trio-websocket~=0.9->selenium) (0.14.0)\n"
     ]
    }
   ],
   "source": [
    "!pip install selenium"
   ]
  },
  {
   "cell_type": "code",
   "execution_count": 24,
   "id": "290bb8fd",
   "metadata": {},
   "outputs": [],
   "source": [
    "import selenium"
   ]
  },
  {
   "cell_type": "code",
   "execution_count": 25,
   "id": "eaeee844",
   "metadata": {},
   "outputs": [],
   "source": [
    "import pandas as pd"
   ]
  },
  {
   "cell_type": "code",
   "execution_count": 26,
   "id": "6bc12393",
   "metadata": {},
   "outputs": [],
   "source": [
    "from selenium import webdriver"
   ]
  },
  {
   "cell_type": "code",
   "execution_count": 27,
   "id": "8f0abb3b",
   "metadata": {},
   "outputs": [],
   "source": [
    "import warnings"
   ]
  },
  {
   "cell_type": "code",
   "execution_count": 28,
   "id": "01a8556e",
   "metadata": {},
   "outputs": [],
   "source": [
    "warnings.filterwarnings('ignore')"
   ]
  },
  {
   "cell_type": "code",
   "execution_count": 29,
   "id": "f80a284c",
   "metadata": {},
   "outputs": [],
   "source": [
    "from selenium.webdriver.common.by import By"
   ]
  },
  {
   "cell_type": "code",
   "execution_count": 30,
   "id": "8ee0021c",
   "metadata": {},
   "outputs": [],
   "source": [
    "import time"
   ]
  },
  {
   "cell_type": "code",
   "execution_count": 31,
   "id": "a35c86ac",
   "metadata": {},
   "outputs": [],
   "source": [
    "import requests"
   ]
  },
  {
   "cell_type": "code",
   "execution_count": 32,
   "id": "3a636203",
   "metadata": {},
   "outputs": [],
   "source": [
    "from bs4 import BeautifulSoup"
   ]
  },
  {
   "cell_type": "code",
   "execution_count": 33,
   "id": "f49c4f02",
   "metadata": {},
   "outputs": [],
   "source": [
    "from selenium.common.exceptions import ElementNotInteractableException"
   ]
  },
  {
   "cell_type": "code",
   "execution_count": 34,
   "id": "6002e055",
   "metadata": {},
   "outputs": [],
   "source": [
    "from selenium.webdriver.support.ui import WebDriverWait"
   ]
  },
  {
   "cell_type": "code",
   "execution_count": 35,
   "id": "2d4e0137",
   "metadata": {},
   "outputs": [],
   "source": [
    "from selenium.webdriver.support import expected_conditions as EC"
   ]
  },
  {
   "cell_type": "code",
   "execution_count": 36,
   "id": "4c6724af",
   "metadata": {},
   "outputs": [],
   "source": [
    "#let first connect to the driver"
   ]
  },
  {
   "cell_type": "code",
   "execution_count": 37,
   "id": "42da33ae",
   "metadata": {},
   "outputs": [],
   "source": [
    "driver=webdriver.Chrome(r\"C:\\Users\\dell\\Downloads\\chromedriver_win32 (4)\")"
   ]
  },
  {
   "cell_type": "code",
   "execution_count": 38,
   "id": "9c6bfac5",
   "metadata": {},
   "outputs": [],
   "source": [
    "driver=webdriver.Chrome(r\"chromedriver.exe\")"
   ]
  },
  {
   "cell_type": "code",
   "execution_count": 39,
   "id": "b954f621",
   "metadata": {},
   "outputs": [],
   "source": [
    "#opening the GDP page on automated chrome browser"
   ]
  },
  {
   "cell_type": "code",
   "execution_count": 40,
   "id": "2aa56ca2",
   "metadata": {},
   "outputs": [],
   "source": [
    "driver.get(\"http://statisticstimes.com/\")"
   ]
  },
  {
   "cell_type": "code",
   "execution_count": 41,
   "id": "b77afa54",
   "metadata": {},
   "outputs": [],
   "source": [
    "#click on economy"
   ]
  },
  {
   "cell_type": "code",
   "execution_count": 42,
   "id": "3d17ac82",
   "metadata": {},
   "outputs": [],
   "source": [
    "economy=driver.find_element(By.XPATH,\"/html/body/div[2]/div[1]/div[2]/div[2]/button\")"
   ]
  },
  {
   "cell_type": "code",
   "execution_count": 43,
   "id": "7117e54d",
   "metadata": {},
   "outputs": [],
   "source": [
    "economy.click()"
   ]
  },
  {
   "cell_type": "code",
   "execution_count": 44,
   "id": "5736b3ca",
   "metadata": {},
   "outputs": [],
   "source": [
    "try:\n",
    "    india=driver.find_element(By.XPATH,\"/html/body/div[2]/div[1]/div[2]/div[2]/div/a[3]\")\n",
    "    india.click()\n",
    "except ElementNotInteractableException as e:\n",
    "    print(\"Exception Raised:\",e)\n",
    "    india=driver.find_element(By.XPATH,'//a[@class=\"dropdown-content\"]')\n",
    "    driver.get(india.get_attribute('href'))"
   ]
  },
  {
   "cell_type": "code",
   "execution_count": 45,
   "id": "918a3964",
   "metadata": {},
   "outputs": [],
   "source": [
    "#click on GDP of Indian states"
   ]
  },
  {
   "cell_type": "code",
   "execution_count": 46,
   "id": "278e08ce",
   "metadata": {},
   "outputs": [],
   "source": [
    "state=driver.find_element(By.XPATH,\"/html/body/div[2]/div[2]/div[2]/ul/li[1]/a\")"
   ]
  },
  {
   "cell_type": "code",
   "execution_count": 47,
   "id": "3000f723",
   "metadata": {},
   "outputs": [],
   "source": [
    "state.click()"
   ]
  },
  {
   "cell_type": "code",
   "execution_count": 53,
   "id": "34fa6cbf",
   "metadata": {},
   "outputs": [],
   "source": [
    "data_rows = driver.find_elements(By.CSS_SELECTOR, 'table#table_id tbody tr')"
   ]
  },
  {
   "cell_type": "code",
   "execution_count": 58,
   "id": "f1725502",
   "metadata": {},
   "outputs": [
    {
     "name": "stdout",
     "output_type": "stream",
     "text": [
      "1 Maharashtra - 2,632,792 13.94% 399.921\n",
      "2 Tamil Nadu 1,845,853 1,630,208 8.63% 247.629\n",
      "3 Uttar Pradesh 1,687,818 1,584,764 8.39% 240.726\n",
      "4 Gujarat - 1,502,899 7.96% 228.290\n",
      "5 Karnataka 1,631,977 1,493,127 7.91% 226.806\n",
      "6 West Bengal 1,253,832 1,089,898 5.77% 165.556\n",
      "7 Rajasthan 1,020,989 942,586 4.99% 143.179\n",
      "8 Andhra Pradesh 972,782 862,957 4.57% 131.083\n",
      "9 Telangana 969,604 861,031 4.56% 130.791\n",
      "10 Madhya Pradesh 906,672 809,592 4.29% 122.977\n",
      "11 Kerala - 781,653 4.14% 118.733\n",
      "12 Delhi 856,112 774,870 4.10% 117.703\n",
      "13 Haryana 831,610 734,163 3.89% 111.519\n",
      "14 Bihar 611,804 530,363 2.81% 80.562\n",
      "15 Punjab 574,760 526,376 2.79% 79.957\n",
      "16 Odisha 521,275 487,805 2.58% 74.098\n",
      "17 Assam - 315,881 1.67% 47.982\n",
      "18 Chhattisgarh 329,180 304,063 1.61% 46.187\n",
      "19 Jharkhand 328,598 297,204 1.57% 45.145\n",
      "20 Uttarakhand - 245,895 1.30% 37.351\n",
      "21 Jammu & Kashmir - 155,956 0.83% 23.690\n",
      "22 Himachal Pradesh 165,472 153,845 0.81% 23.369\n",
      "23 Goa 80,449 73,170 0.39% 11.115\n",
      "24 Tripura 55,984 49,845 0.26% 7.571\n",
      "25 Chandigarh - 42,114 0.22% 6.397\n",
      "26 Puducherry 38,253 34,433 0.18% 5.230\n",
      "27 Meghalaya 36,572 33,481 0.18% 5.086\n",
      "28 Sikkim 32,496 28,723 0.15% 4.363\n",
      "29 Manipur 31,790 27,870 0.15% 4.233\n",
      "30 Nagaland - 27,283 0.14% 4.144\n",
      "31 Arunachal Pradesh - 24,603 0.13% 3.737\n",
      "32 Mizoram 26,503 22,287 0.12% 3.385\n",
      "33 Andaman & Nicobar Islands - - - -\n"
     ]
    }
   ],
   "source": [
    "for row in data_rows:\n",
    "    rank = row.find_element(By.CSS_SELECTOR, 'td:nth-child(1)').text\n",
    "    state = row.find_element(By.CSS_SELECTOR, 'td:nth-child(2)').text\n",
    "    gsdp_1819 = row.find_element(By.CSS_SELECTOR, 'td:nth-child(3)').text\n",
    "    gsdp_1920 = row.find_element(By.CSS_SELECTOR, 'td:nth-child(4)').text\n",
    "    share_1819 = row.find_element(By.CSS_SELECTOR, 'td:nth-child(5)').text\n",
    "    gdp_billion = row.find_element(By.CSS_SELECTOR, 'td:nth-child(6)').text\n",
    "    print(rank, state, gsdp_1819, gsdp_1920, share_1819, gdp_billion)"
   ]
  },
  {
   "cell_type": "code",
   "execution_count": 59,
   "id": "88ea8b58",
   "metadata": {},
   "outputs": [],
   "source": [
    "driver.close()"
   ]
  },
  {
   "cell_type": "code",
   "execution_count": null,
   "id": "a564d8d3",
   "metadata": {},
   "outputs": [],
   "source": []
  }
 ],
 "metadata": {
  "kernelspec": {
   "display_name": "Python 3 (ipykernel)",
   "language": "python",
   "name": "python3"
  },
  "language_info": {
   "codemirror_mode": {
    "name": "ipython",
    "version": 3
   },
   "file_extension": ".py",
   "mimetype": "text/x-python",
   "name": "python",
   "nbconvert_exporter": "python",
   "pygments_lexer": "ipython3",
   "version": "3.9.13"
  }
 },
 "nbformat": 4,
 "nbformat_minor": 5
}
