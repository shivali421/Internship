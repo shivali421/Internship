{
 "cells": [
  {
   "cell_type": "code",
   "execution_count": 1,
   "id": "6968fe31",
   "metadata": {},
   "outputs": [
    {
     "name": "stdout",
     "output_type": "stream",
     "text": [
      "Requirement already satisfied: selenium in c:\\programdata\\anaconda3\\lib\\site-packages (4.9.1)\n",
      "Requirement already satisfied: urllib3[socks]<3,>=1.26 in c:\\programdata\\anaconda3\\lib\\site-packages (from selenium) (1.26.11)\n",
      "Requirement already satisfied: trio~=0.17 in c:\\programdata\\anaconda3\\lib\\site-packages (from selenium) (0.22.0)\n",
      "Requirement already satisfied: certifi>=2021.10.8 in c:\\programdata\\anaconda3\\lib\\site-packages (from selenium) (2022.9.14)\n",
      "Requirement already satisfied: trio-websocket~=0.9 in c:\\programdata\\anaconda3\\lib\\site-packages (from selenium) (0.10.2)\n",
      "Requirement already satisfied: attrs>=19.2.0 in c:\\programdata\\anaconda3\\lib\\site-packages (from trio~=0.17->selenium) (21.4.0)\n",
      "Requirement already satisfied: outcome in c:\\programdata\\anaconda3\\lib\\site-packages (from trio~=0.17->selenium) (1.2.0)\n",
      "Requirement already satisfied: async-generator>=1.9 in c:\\programdata\\anaconda3\\lib\\site-packages (from trio~=0.17->selenium) (1.10)\n",
      "Requirement already satisfied: sniffio in c:\\programdata\\anaconda3\\lib\\site-packages (from trio~=0.17->selenium) (1.2.0)\n",
      "Requirement already satisfied: sortedcontainers in c:\\programdata\\anaconda3\\lib\\site-packages (from trio~=0.17->selenium) (2.4.0)\n",
      "Requirement already satisfied: exceptiongroup>=1.0.0rc9 in c:\\programdata\\anaconda3\\lib\\site-packages (from trio~=0.17->selenium) (1.1.1)\n",
      "Requirement already satisfied: cffi>=1.14 in c:\\programdata\\anaconda3\\lib\\site-packages (from trio~=0.17->selenium) (1.15.1)\n",
      "Requirement already satisfied: idna in c:\\programdata\\anaconda3\\lib\\site-packages (from trio~=0.17->selenium) (3.3)\n",
      "Requirement already satisfied: wsproto>=0.14 in c:\\programdata\\anaconda3\\lib\\site-packages (from trio-websocket~=0.9->selenium) (1.2.0)\n",
      "Requirement already satisfied: PySocks!=1.5.7,<2.0,>=1.5.6 in c:\\programdata\\anaconda3\\lib\\site-packages (from urllib3[socks]<3,>=1.26->selenium) (1.7.1)\n",
      "Requirement already satisfied: pycparser in c:\\programdata\\anaconda3\\lib\\site-packages (from cffi>=1.14->trio~=0.17->selenium) (2.21)\n",
      "Requirement already satisfied: h11<1,>=0.9.0 in c:\\programdata\\anaconda3\\lib\\site-packages (from wsproto>=0.14->trio-websocket~=0.9->selenium) (0.14.0)\n"
     ]
    }
   ],
   "source": [
    "!pip install selenium"
   ]
  },
  {
   "cell_type": "code",
   "execution_count": 2,
   "id": "290bb8fd",
   "metadata": {},
   "outputs": [],
   "source": [
    "import selenium"
   ]
  },
  {
   "cell_type": "code",
   "execution_count": 3,
   "id": "eaeee844",
   "metadata": {},
   "outputs": [],
   "source": [
    "import pandas as pd"
   ]
  },
  {
   "cell_type": "code",
   "execution_count": 4,
   "id": "6bc12393",
   "metadata": {},
   "outputs": [],
   "source": [
    "from selenium import webdriver"
   ]
  },
  {
   "cell_type": "code",
   "execution_count": 5,
   "id": "8f0abb3b",
   "metadata": {},
   "outputs": [],
   "source": [
    "import warnings"
   ]
  },
  {
   "cell_type": "code",
   "execution_count": 6,
   "id": "01a8556e",
   "metadata": {},
   "outputs": [],
   "source": [
    "warnings.filterwarnings('ignore')"
   ]
  },
  {
   "cell_type": "code",
   "execution_count": 7,
   "id": "f80a284c",
   "metadata": {},
   "outputs": [],
   "source": [
    "from selenium.webdriver.common.by import By"
   ]
  },
  {
   "cell_type": "code",
   "execution_count": 8,
   "id": "8ee0021c",
   "metadata": {},
   "outputs": [],
   "source": [
    "import time"
   ]
  },
  {
   "cell_type": "code",
   "execution_count": 9,
   "id": "a35c86ac",
   "metadata": {},
   "outputs": [],
   "source": [
    "import requests"
   ]
  },
  {
   "cell_type": "code",
   "execution_count": 10,
   "id": "3a636203",
   "metadata": {},
   "outputs": [],
   "source": [
    "from bs4 import BeautifulSoup"
   ]
  },
  {
   "cell_type": "code",
   "execution_count": 11,
   "id": "f49c4f02",
   "metadata": {},
   "outputs": [],
   "source": [
    "from selenium.common.exceptions import ElementNotInteractableException"
   ]
  },
  {
   "cell_type": "code",
   "execution_count": 12,
   "id": "1cace692",
   "metadata": {},
   "outputs": [],
   "source": [
    "#let first connect to the driver"
   ]
  },
  {
   "cell_type": "code",
   "execution_count": 13,
   "id": "c6786ee2",
   "metadata": {},
   "outputs": [],
   "source": [
    "driver=webdriver.Chrome(r\"C:\\Users\\dell\\Downloads\\chromedriver_win32\")"
   ]
  },
  {
   "cell_type": "code",
   "execution_count": 14,
   "id": "ad4336c4",
   "metadata": {},
   "outputs": [],
   "source": [
    "driver=webdriver.Chrome(r\"chromedriver.exe\")"
   ]
  },
  {
   "cell_type": "code",
   "execution_count": 15,
   "id": "410241dc",
   "metadata": {},
   "outputs": [],
   "source": [
    "#opening github page on automated chrome browser"
   ]
  },
  {
   "cell_type": "code",
   "execution_count": 16,
   "id": "23c761ee",
   "metadata": {},
   "outputs": [],
   "source": [
    "driver.get(\"https://github.com/\")"
   ]
  },
  {
   "cell_type": "code",
   "execution_count": 17,
   "id": "33f2abf6",
   "metadata": {},
   "outputs": [],
   "source": [
    "#first click open source than click trending"
   ]
  },
  {
   "cell_type": "code",
   "execution_count": 18,
   "id": "98f59f00",
   "metadata": {},
   "outputs": [],
   "source": [
    "search=driver.find_element(By.XPATH,\"/html/body/div[1]/div[1]/header/div/div[2]/div/nav/ul/li[3]/button\")"
   ]
  },
  {
   "cell_type": "code",
   "execution_count": 19,
   "id": "91eb7daa",
   "metadata": {},
   "outputs": [],
   "source": [
    "search.click()"
   ]
  },
  {
   "cell_type": "code",
   "execution_count": 20,
   "id": "34f7a85a",
   "metadata": {},
   "outputs": [],
   "source": [
    "try:\n",
    "    trending=driver.find_element(By.XPATH,\"/html/body/div[1]/div[1]/header/div/div[2]/div/nav/ul/li[3]/div/div[3]/ul/li[2]/a\")\n",
    "    trending.click()\n",
    "except ElementNotInteractableException as e:\n",
    "    print(\"Exception Raised:\",e)\n",
    "    trending=driver.find_element(By.XPATH,'//a[@class=\"HeaderMenu-dropdown-link lh-condensed d-block no-underline position-relative py-2 Link--secondary\"]')\n",
    "    driver.get(element.get_attribute('href'))"
   ]
  },
  {
   "cell_type": "code",
   "execution_count": 21,
   "id": "818a5b68",
   "metadata": {},
   "outputs": [],
   "source": [
    "trending.click()"
   ]
  },
  {
   "cell_type": "code",
   "execution_count": 22,
   "id": "4471e775",
   "metadata": {},
   "outputs": [],
   "source": [
    "#scraping repositories title"
   ]
  },
  {
   "cell_type": "code",
   "execution_count": 27,
   "id": "c428c13c",
   "metadata": {},
   "outputs": [],
   "source": [
    "name=[]"
   ]
  },
  {
   "cell_type": "code",
   "execution_count": 28,
   "id": "36a582b5",
   "metadata": {},
   "outputs": [],
   "source": [
    "title_tags=driver.find_elements(By.XPATH,'//span[@class=\"text-normal\"]')"
   ]
  },
  {
   "cell_type": "code",
   "execution_count": 29,
   "id": "71b979d7",
   "metadata": {},
   "outputs": [],
   "source": [
    "for i in title_tags[0:25]:\n",
    "    title=i.text\n",
    "    name.append(title)"
   ]
  },
  {
   "cell_type": "code",
   "execution_count": 30,
   "id": "e45a5ae7",
   "metadata": {},
   "outputs": [
    {
     "data": {
      "text/plain": [
       "['XingangPan /',\n",
       " 'THUDM /',\n",
       " 'embedchain /',\n",
       " 'QiuChenlyOpenSource /',\n",
       " 'steven-tey /',\n",
       " 'papers-we-love /',\n",
       " 'chat2db /',\n",
       " 'turboderp /',\n",
       " 'CASIA-IVA-Lab /',\n",
       " 'alexbei /',\n",
       " 'wgwang /',\n",
       " 'EbookFoundation /',\n",
       " 'facebook /',\n",
       " 'mosaicml /',\n",
       " 'practical-tutorials /',\n",
       " 'jasontaylordev /',\n",
       " 'Stability-AI /',\n",
       " 'google /',\n",
       " 'xitanggg /',\n",
       " 'spacedriveapp /',\n",
       " '1Panel-dev /',\n",
       " 'microsoft /',\n",
       " 'Alvin9999 /',\n",
       " 'llvm /',\n",
       " 'cvg /']"
      ]
     },
     "execution_count": 30,
     "metadata": {},
     "output_type": "execute_result"
    }
   ],
   "source": [
    "name"
   ]
  },
  {
   "cell_type": "code",
   "execution_count": 31,
   "id": "c924c70b",
   "metadata": {},
   "outputs": [],
   "source": [
    "#scraping repository description"
   ]
  },
  {
   "cell_type": "code",
   "execution_count": 32,
   "id": "c29ba0f4",
   "metadata": {},
   "outputs": [],
   "source": [
    "desc=[]"
   ]
  },
  {
   "cell_type": "code",
   "execution_count": 33,
   "id": "270f2524",
   "metadata": {},
   "outputs": [],
   "source": [
    "desc_tags=driver.find_elements(By.XPATH,'//p[@class=\"col-9 color-fg-muted my-1 pr-4\"]')"
   ]
  },
  {
   "cell_type": "code",
   "execution_count": 34,
   "id": "abfc263e",
   "metadata": {},
   "outputs": [],
   "source": [
    "for i in desc_tags[0:25]:\n",
    "    d=i.text\n",
    "    desc.append(d)"
   ]
  },
  {
   "cell_type": "code",
   "execution_count": 35,
   "id": "6e22d9a7",
   "metadata": {},
   "outputs": [
    {
     "data": {
      "text/plain": [
       "['Official Code for DragGAN (SIGGRAPH 2023)',\n",
       " 'ChatGLM2-6B: An Open Bilingual Chat LLM | 开源双语对话语言模型',\n",
       " 'Framework to easily create LLM powered bots over any dataset.',\n",
       " '基于Ruby编写的命令行注入版本',\n",
       " 'Chat with Hacker News using natural language. Built with OpenAI Functions and Vercel AI SDK.',\n",
       " 'Papers from the computer science community to read and discuss.',\n",
       " '🔥 🔥 🔥 An intelligent and versatile general-purpose SQL client and reporting tool for databases which integrates ChatGPT capabilities.(智能的通用数据库SQL客户端和报表工具)',\n",
       " 'A more memory-efficient rewrite of the HF transformers implementation of Llama for use with quantized weights.',\n",
       " 'Fast Segment Anything',\n",
       " '经过精心筛选，从5000+个电报群组/频道/机器人中挑选出的优质推荐！如果您有更多值得推荐的电报群组/频道/机器人，欢迎在issue中留言或提交pull requests。感谢您的关注！',\n",
       " '中国大模型',\n",
       " '📚 Freely available programming books',\n",
       " 'An open-source C++ library developed and used at Facebook.',\n",
       " 'Train neural networks up to 7x faster',\n",
       " 'Curated list of project-based tutorials',\n",
       " 'Clean Architecture Solution Template for ASP.NET Core',\n",
       " 'High-Resolution Image Synthesis with Latent Diffusion Models',\n",
       " 'Google CTF',\n",
       " 'OpenResume is a powerful open-source resume builder and resume parser. https://open-resume.com/',\n",
       " 'Spacedrive is an open source cross-platform file explorer, powered by a virtual distributed filesystem written in Rust.',\n",
       " '🔥 🔥 🔥 现代化、开源的 Linux 服务器运维管理面板。',\n",
       " '24 Lessons, 12 Weeks, Get Started as a Web Developer',\n",
       " '翻墙-科学上网、免费翻墙、免费科学上网、VPN、一键翻墙浏览器，vps一键搭建翻墙服务器脚本/教程，免费shadowsocks/ss/ssr/v2ray/goflyway账号/节点，免费自由上网、fanqiang、翻墙梯子，电脑、手机、iOS、安卓、windows、Mac、Linux、路由器翻墙、科学上网',\n",
       " 'The LLVM Project is a collection of modular and reusable compiler and toolchain technologies. Note: the repository does not accept github pull requests at this moment. Please submit your patches at http://reviews.llvm.org.',\n",
       " 'LightGlue: Local Feature Matching at Light Speed']"
      ]
     },
     "execution_count": 35,
     "metadata": {},
     "output_type": "execute_result"
    }
   ],
   "source": [
    "desc"
   ]
  },
  {
   "cell_type": "code",
   "execution_count": 36,
   "id": "3561298e",
   "metadata": {},
   "outputs": [],
   "source": [
    "#scraping contributors count"
   ]
  },
  {
   "cell_type": "code",
   "execution_count": 37,
   "id": "b1249717",
   "metadata": {},
   "outputs": [],
   "source": [
    "c_count=[]"
   ]
  },
  {
   "cell_type": "code",
   "execution_count": 38,
   "id": "439f85df",
   "metadata": {},
   "outputs": [],
   "source": [
    "contributors=driver.find_elements(By.XPATH,'//a[@class=\"Link--muted d-inline-block mr-3\"]')"
   ]
  },
  {
   "cell_type": "code",
   "execution_count": 39,
   "id": "d4db10bd",
   "metadata": {},
   "outputs": [],
   "source": [
    "for i in contributors[0:25]:\n",
    "    c=i.text\n",
    "    c_count.append(c)"
   ]
  },
  {
   "cell_type": "code",
   "execution_count": 40,
   "id": "b5b4e55a",
   "metadata": {},
   "outputs": [
    {
     "data": {
      "text/plain": [
       "['26,075',\n",
       " '2,419',\n",
       " '5,315',\n",
       " '694',\n",
       " '2,572',\n",
       " '508',\n",
       " '741',\n",
       " '246',\n",
       " '636',\n",
       " '131',\n",
       " '74,309',\n",
       " '5,484',\n",
       " '2,272',\n",
       " '405',\n",
       " '775',\n",
       " '72',\n",
       " '3,764',\n",
       " '631',\n",
       " '1,197',\n",
       " '86',\n",
       " '409',\n",
       " '46',\n",
       " '284,606',\n",
       " '55,883',\n",
       " '25,393']"
      ]
     },
     "execution_count": 40,
     "metadata": {},
     "output_type": "execute_result"
    }
   ],
   "source": [
    "c_count"
   ]
  },
  {
   "cell_type": "code",
   "execution_count": 41,
   "id": "4505bf0f",
   "metadata": {},
   "outputs": [],
   "source": [
    "#scraping language used"
   ]
  },
  {
   "cell_type": "code",
   "execution_count": 46,
   "id": "3e4b8469",
   "metadata": {},
   "outputs": [],
   "source": [
    "lang=[]"
   ]
  },
  {
   "cell_type": "code",
   "execution_count": 50,
   "id": "b9950b63",
   "metadata": {},
   "outputs": [],
   "source": [
    "lang_tags=driver.find_elements(By.XPATH,'//span[@class=\"d-inline-block ml-0 mr-3\"]')"
   ]
  },
  {
   "cell_type": "code",
   "execution_count": 51,
   "id": "5bb662ea",
   "metadata": {},
   "outputs": [],
   "source": [
    "for i in lang_tags[0:20]:\n",
    "    l=i.text\n",
    "    lang.append(l)"
   ]
  },
  {
   "cell_type": "code",
   "execution_count": 52,
   "id": "4b8037ca",
   "metadata": {},
   "outputs": [
    {
     "data": {
      "text/plain": [
       "['Python',\n",
       " 'Python',\n",
       " 'Python',\n",
       " 'Ruby',\n",
       " 'TypeScript',\n",
       " 'Shell',\n",
       " 'Java',\n",
       " 'Python',\n",
       " 'Python',\n",
       " 'Python',\n",
       " 'C++',\n",
       " 'Python',\n",
       " 'C#',\n",
       " 'Python',\n",
       " 'Go',\n",
       " 'TypeScript',\n",
       " 'Rust',\n",
       " 'Go',\n",
       " 'JavaScript',\n",
       " 'Jupyter Notebook']"
      ]
     },
     "execution_count": 52,
     "metadata": {},
     "output_type": "execute_result"
    }
   ],
   "source": [
    "lang"
   ]
  },
  {
   "cell_type": "code",
   "execution_count": null,
   "id": "122b4750",
   "metadata": {},
   "outputs": [],
   "source": []
  }
 ],
 "metadata": {
  "kernelspec": {
   "display_name": "Python 3 (ipykernel)",
   "language": "python",
   "name": "python3"
  },
  "language_info": {
   "codemirror_mode": {
    "name": "ipython",
    "version": 3
   },
   "file_extension": ".py",
   "mimetype": "text/x-python",
   "name": "python",
   "nbconvert_exporter": "python",
   "pygments_lexer": "ipython3",
   "version": "3.9.13"
  }
 },
 "nbformat": 4,
 "nbformat_minor": 5
}
